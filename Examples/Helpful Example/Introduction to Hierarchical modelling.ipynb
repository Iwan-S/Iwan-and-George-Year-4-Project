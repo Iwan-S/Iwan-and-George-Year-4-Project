{
 "cells": [
  {
   "cell_type": "markdown",
   "metadata": {},
   "source": [
    "# Hierarchical Modelling Introduction\n",
    "\n",
    "This notebook uses [PyMC](https://www.pymc.io) to sample from a basic Hierarchical Bayesian Model (HBM).\n",
    "\n",
    "Install PyMC by following the instructions here: https://www.pymc.io/projects/docs/en/latest/installation.html\n",
    "\n",
    "This also requires the [corner](https://corner.readthedocs.io/en/latest/) package for plotting the posterior. Install with `pip install corner`."
   ]
  },
  {
   "cell_type": "code",
   "execution_count": 2,
   "metadata": {},
   "outputs": [
    {
     "name": "stdout",
     "output_type": "stream",
     "text": [
      "Collecting pymc"
     ]
    },
    {
     "name": "stderr",
     "output_type": "stream",
     "text": [
      "ERROR: xarray 2023.1.0 has requirement packaging>=21.3, but you'll have packaging 20.4 which is incompatible.\n",
      "ERROR: xarray 2023.1.0 has requirement pandas>=1.3, but you'll have pandas 1.0.5 which is incompatible.\n",
      "ERROR: xarray-einstats 0.5.1 has requirement scipy>=1.6, but you'll have scipy 1.5.0 which is incompatible.\n",
      "ERROR: arviz 0.15.1 has requirement pandas>=1.3.0, but you'll have pandas 1.0.5 which is incompatible.\n",
      "ERROR: arviz 0.15.1 has requirement scipy>=1.8.0, but you'll have scipy 1.5.0 which is incompatible.\n",
      "ERROR: arviz 0.15.1 has requirement setuptools>=60.0.0, but you'll have setuptools 49.2.0.post20200714 which is incompatible.\n",
      "ERROR: arviz 0.15.1 has requirement typing-extensions>=4.1.0, but you'll have typing-extensions 3.7.4.2 which is incompatible.\n"
     ]
    },
    {
     "name": "stdout",
     "output_type": "stream",
     "text": [
      "\n",
      "  Downloading pymc-5.6.1-py3-none-any.whl (450 kB)\n",
      "Requirement already satisfied: numpy>=1.15.0 in c:\\users\\georg\\anaconda3\\lib\\site-packages (from pymc) (1.24.4)\n",
      "Collecting cachetools>=4.2.1\n",
      "  Downloading cachetools-5.3.2-py3-none-any.whl (9.3 kB)\n",
      "Collecting pytensor<2.13,>=2.12.0\n",
      "  Downloading pytensor-2.12.3-cp38-cp38-win_amd64.whl (1.2 MB)\n",
      "Collecting arviz>=0.13.0\n",
      "  Using cached arviz-0.15.1-py3-none-any.whl (1.6 MB)\n",
      "Requirement already satisfied: pandas>=0.24.0 in c:\\users\\georg\\anaconda3\\lib\\site-packages (from pymc) (1.0.5)\n",
      "Requirement already satisfied: typing-extensions>=3.7.4 in c:\\users\\georg\\anaconda3\\lib\\site-packages (from pymc) (3.7.4.2)\n",
      "Collecting fastprogress>=0.2.0\n",
      "  Downloading fastprogress-1.0.3-py3-none-any.whl (12 kB)\n",
      "Requirement already satisfied: cloudpickle in c:\\users\\georg\\anaconda3\\lib\\site-packages (from pymc) (1.5.0)\n",
      "Requirement already satisfied: scipy>=1.4.1 in c:\\users\\georg\\anaconda3\\lib\\site-packages (from pymc) (1.5.0)\n",
      "Collecting miniKanren\n",
      "  Downloading miniKanren-1.0.3.tar.gz (41 kB)\n",
      "Requirement already satisfied: setuptools>=48.0.0 in c:\\users\\georg\\anaconda3\\lib\\site-packages (from pytensor<2.13,>=2.12.0->pymc) (49.2.0.post20200714)\n",
      "Requirement already satisfied: filelock in c:\\users\\georg\\anaconda3\\lib\\site-packages (from pytensor<2.13,>=2.12.0->pymc) (3.0.12)\n",
      "Collecting logical-unification\n",
      "  Downloading logical-unification-0.4.6.tar.gz (31 kB)\n",
      "Collecting etuples\n",
      "  Downloading etuples-0.3.9.tar.gz (30 kB)\n",
      "Collecting cons\n",
      "  Downloading cons-0.4.6.tar.gz (26 kB)\n",
      "Collecting xarray>=0.21.0\n",
      "  Using cached xarray-2023.1.0-py3-none-any.whl (973 kB)\n",
      "Requirement already satisfied: packaging in c:\\users\\georg\\anaconda3\\lib\\site-packages (from arviz>=0.13.0->pymc) (20.4)\n",
      "Requirement already satisfied: matplotlib>=3.2 in c:\\users\\georg\\anaconda3\\lib\\site-packages (from arviz>=0.13.0->pymc) (3.2.2)\n",
      "Collecting h5netcdf>=1.0.2\n",
      "  Using cached h5netcdf-1.1.0-py2.py3-none-any.whl (26 kB)\n",
      "Collecting xarray-einstats>=0.3\n",
      "  Using cached xarray_einstats-0.5.1-py3-none-any.whl (28 kB)\n",
      "Requirement already satisfied: pytz>=2017.2 in c:\\users\\georg\\anaconda3\\lib\\site-packages (from pandas>=0.24.0->pymc) (2020.1)\n",
      "Requirement already satisfied: python-dateutil>=2.6.1 in c:\\users\\georg\\anaconda3\\lib\\site-packages (from pandas>=0.24.0->pymc) (2.8.1)\n",
      "Requirement already satisfied: toolz in c:\\users\\georg\\anaconda3\\lib\\site-packages (from miniKanren->pytensor<2.13,>=2.12.0->pymc) (0.10.0)\n",
      "Requirement already satisfied: multipledispatch in c:\\users\\georg\\anaconda3\\lib\\site-packages (from miniKanren->pytensor<2.13,>=2.12.0->pymc) (0.6.0)\n",
      "Requirement already satisfied: pyparsing>=2.0.2 in c:\\users\\georg\\anaconda3\\lib\\site-packages (from packaging->arviz>=0.13.0->pymc) (2.4.7)\n",
      "Requirement already satisfied: six in c:\\users\\georg\\anaconda3\\lib\\site-packages (from packaging->arviz>=0.13.0->pymc) (1.15.0)\n",
      "Requirement already satisfied: cycler>=0.10 in c:\\users\\georg\\anaconda3\\lib\\site-packages (from matplotlib>=3.2->arviz>=0.13.0->pymc) (0.10.0)\n",
      "Requirement already satisfied: kiwisolver>=1.0.1 in c:\\users\\georg\\anaconda3\\lib\\site-packages (from matplotlib>=3.2->arviz>=0.13.0->pymc) (1.2.0)\n",
      "Requirement already satisfied: h5py in c:\\users\\georg\\anaconda3\\lib\\site-packages (from h5netcdf>=1.0.2->arviz>=0.13.0->pymc) (2.10.0)\n",
      "Building wheels for collected packages: miniKanren, logical-unification, etuples, cons\n",
      "  Building wheel for miniKanren (setup.py): started\n",
      "  Building wheel for miniKanren (setup.py): finished with status 'done'\n",
      "  Created wheel for miniKanren: filename=miniKanren-1.0.3-py3-none-any.whl size=23926 sha256=dfc43c4ad4a5b92804d5b60f1f15c9140d2b11257cef8e30db7e19d7c023e665\n",
      "  Stored in directory: c:\\users\\georg\\appdata\\local\\pip\\cache\\wheels\\06\\83\\f0\\bf4f50c0e6bfab8ae0860cb6e4a029a8a5346e3c1c38d926e6\n",
      "  Building wheel for logical-unification (setup.py): started\n",
      "  Building wheel for logical-unification (setup.py): finished with status 'done'\n",
      "  Created wheel for logical-unification: filename=logical_unification-0.4.6-py3-none-any.whl size=13926 sha256=9835481b02a702c67ded69493ab42764cbe4bbdfa0f92f114275a5df6ae40e5a\n",
      "  Stored in directory: c:\\users\\georg\\appdata\\local\\pip\\cache\\wheels\\3a\\ba\\c0\\41870a2550bb5c7f7d584882da204a2f570f3da7f939921b8a\n",
      "  Building wheel for etuples (setup.py): started\n",
      "  Building wheel for etuples (setup.py): finished with status 'done'\n",
      "  Created wheel for etuples: filename=etuples-0.3.9-py3-none-any.whl size=12642 sha256=0090f85a7bb11c490f31551677470197db7d85b381d998f11894dffc5a4b565a\n",
      "  Stored in directory: c:\\users\\georg\\appdata\\local\\pip\\cache\\wheels\\8f\\31\\a4\\d168fd2653f35b4977d06a7607985b941daae136a3eda13042\n",
      "  Building wheel for cons (setup.py): started\n",
      "  Building wheel for cons (setup.py): finished with status 'done'\n",
      "  Created wheel for cons: filename=cons-0.4.6-py3-none-any.whl size=9101 sha256=3f63f6f94804cadb233424e10112975c12d5311f87d547023f8f25bc11844b03\n",
      "  Stored in directory: c:\\users\\georg\\appdata\\local\\pip\\cache\\wheels\\99\\1e\\25\\8aaf260ff04079f9ae88ddc7dff1c344049f092fc87ef61a3b\n",
      "Successfully built miniKanren logical-unification etuples cons\n",
      "Installing collected packages: cachetools, logical-unification, cons, etuples, miniKanren, pytensor, xarray, h5netcdf, xarray-einstats, arviz, fastprogress, pymc\n",
      "Successfully installed arviz-0.15.1 cachetools-5.3.2 cons-0.4.6 etuples-0.3.9 fastprogress-1.0.3 h5netcdf-1.1.0 logical-unification-0.4.6 miniKanren-1.0.3 pymc-5.6.1 pytensor-2.12.3 xarray-2023.1.0 xarray-einstats-0.5.1\n"
     ]
    }
   ],
   "source": [
    "!pip install pymc"
   ]
  },
  {
   "cell_type": "code",
   "execution_count": null,
   "metadata": {},
   "outputs": [
    {
     "name": "stderr",
     "output_type": "stream",
     "text": [
      "C:\\Users\\georg\\anaconda3\\lib\\site-packages\\setuptools\\distutils_patch.py:25: UserWarning: Distutils was imported before Setuptools. This usage is discouraged and may exhibit undesirable behaviors or errors. Please use Setuptools' objects directly or at least import Setuptools first.\n",
      "  warnings.warn(\n",
      "WARNING (pytensor.configdefaults): g++ not available, if using conda: `conda install m2w64-toolchain`\n",
      "WARNING (pytensor.configdefaults): g++ not detected!  PyTensor will be unable to compile C-implementations and will default to Python. Performance may be severely degraded. To remove this warning, set PyTensor flags cxx to an empty string.\n"
     ]
    }
   ],
   "source": [
    "import numpy as np\n",
    "import pymc as pm\n",
    "import arviz as az\n",
    "\n",
    "from matplotlib import pyplot as plt\n",
    "from matplotlib import rc\n",
    "from corner import corner"
   ]
  },
  {
   "cell_type": "markdown",
   "metadata": {},
   "source": [
    "## Example 1: Children's Birthday Party\n",
    "\n",
    "You are a proffessional clown hosting a children's birthday party at the village hall. Billy Bayes is turning 10 years old and is inviting all 100 of his friends along. You don't know much about his friends but want to estimate the mean and standard deviation of their ages because you think it might impress them. You could just guess the ages of the children at the party, but the uncertainty on your guesses are about $\\pm 1 yr$ which means you would observe an inflated spread of ages. You decide to use a hierarchical model to improve the age estimates by assuming an overall age distribution.\n",
    "\n",
    "### Creating the Data\n",
    "\n",
    "To test your method, you create a test sample with a mean age of 10 years and a standard deviation of 0.5 years such that the distribution of true ages $A_\\text{true}$,\n",
    "\n",
    "$A_\\text{true} \\sim \\mathcal{N}(10.0, 0.5)$.\n",
    "\n",
    "You know that you can guess ages with an uncertainty of 1 year, so the distribution of observed ages are,\n",
    "\n",
    "$A_\\text{obs} \\sim \\mathcal{N}(A_\\text{true}, 1.0)$.\n",
    "\n",
    "We may write this out below as:"
   ]
  },
  {
   "cell_type": "code",
   "execution_count": 22,
   "metadata": {},
   "outputs": [],
   "source": [
    "age_billy_true = 10.0"
   ]
  },
  {
   "cell_type": "code",
   "execution_count": 21,
   "metadata": {},
   "outputs": [
    {
     "ename": "SyntaxError",
     "evalue": "invalid syntax (1261522179.py, line 6)",
     "output_type": "error",
     "traceback": [
      "\u001b[0;36m  File \u001b[0;32m\"/tmp/ipykernel_90575/1261522179.py\"\u001b[0;36m, line \u001b[0;32m6\u001b[0m\n\u001b[0;31m    age_true_mu = # TODO\u001b[0m\n\u001b[0m                  ^\u001b[0m\n\u001b[0;31mSyntaxError\u001b[0m\u001b[0;31m:\u001b[0m invalid syntax\n"
     ]
    }
   ],
   "source": [
    "rng = np.random.default_rng(seed=0)\n",
    "\n",
    "n = 100  # Number of children at a party, not including Billy who we know is 10 years old.\n",
    "\n",
    "# True ages\n",
    "age_true_mu = # TODO\n",
    "age_true_sigma = # TODO\n",
    "age_true = rng.normal(size=n) * age_true_sigma + age_true_mu\n",
    "\n",
    "# Observed ages\n",
    "age_obs_sig = # 1.  # If this is too much larger than the true population spread it can break things!\n",
    "age_obs = rng.normal(size=n) * age_obs_sig + age_true"
   ]
  },
  {
   "cell_type": "markdown",
   "metadata": {},
   "source": [
    "Double-check the true and observed age distributions. We expect the observed distribution to be wider than the true distribution."
   ]
  },
  {
   "cell_type": "code",
   "execution_count": 20,
   "metadata": {},
   "outputs": [
    {
     "ename": "NameError",
     "evalue": "name 'age_obs' is not defined",
     "output_type": "error",
     "traceback": [
      "\u001b[0;31m---------------------------------------------------------------------------\u001b[0m",
      "\u001b[0;31mNameError\u001b[0m                                 Traceback (most recent call last)",
      "\u001b[0;32m/tmp/ipykernel_90575/1040396486.py\u001b[0m in \u001b[0;36m<module>\u001b[0;34m\u001b[0m\n\u001b[1;32m      2\u001b[0m \u001b[0mbins\u001b[0m \u001b[0;34m=\u001b[0m \u001b[0;36m20\u001b[0m\u001b[0;34m\u001b[0m\u001b[0;34m\u001b[0m\u001b[0m\n\u001b[1;32m      3\u001b[0m \u001b[0mhisttype\u001b[0m \u001b[0;34m=\u001b[0m \u001b[0;34m\"step\"\u001b[0m\u001b[0;34m\u001b[0m\u001b[0;34m\u001b[0m\u001b[0m\n\u001b[0;32m----> 4\u001b[0;31m \u001b[0mrlim\u001b[0m \u001b[0;34m=\u001b[0m \u001b[0;34m(\u001b[0m\u001b[0mage_obs\u001b[0m\u001b[0;34m.\u001b[0m\u001b[0mmin\u001b[0m\u001b[0;34m(\u001b[0m\u001b[0;34m)\u001b[0m\u001b[0;34m,\u001b[0m \u001b[0mage_obs\u001b[0m\u001b[0;34m.\u001b[0m\u001b[0mmax\u001b[0m\u001b[0;34m(\u001b[0m\u001b[0;34m)\u001b[0m\u001b[0;34m)\u001b[0m\u001b[0;34m\u001b[0m\u001b[0;34m\u001b[0m\u001b[0m\n\u001b[0m\u001b[1;32m      5\u001b[0m \u001b[0;34m\u001b[0m\u001b[0m\n\u001b[1;32m      6\u001b[0m \u001b[0max\u001b[0m\u001b[0;34m.\u001b[0m\u001b[0mhist\u001b[0m\u001b[0;34m(\u001b[0m\u001b[0mage_true\u001b[0m\u001b[0;34m,\u001b[0m \u001b[0mbins\u001b[0m\u001b[0;34m=\u001b[0m\u001b[0mbins\u001b[0m\u001b[0;34m,\u001b[0m \u001b[0mhisttype\u001b[0m\u001b[0;34m=\u001b[0m\u001b[0mhisttype\u001b[0m\u001b[0;34m,\u001b[0m \u001b[0mrange\u001b[0m\u001b[0;34m=\u001b[0m\u001b[0mrlim\u001b[0m\u001b[0;34m,\u001b[0m \u001b[0mlabel\u001b[0m\u001b[0;34m=\u001b[0m\u001b[0;34m'Truth'\u001b[0m\u001b[0;34m)\u001b[0m\u001b[0;34m\u001b[0m\u001b[0;34m\u001b[0m\u001b[0m\n",
      "\u001b[0;31mNameError\u001b[0m: name 'age_obs' is not defined"
     ]
    },
    {
     "data": {
      "image/png": "[encoded data removed]",
      "text/plain": [
       "<Figure size 640x480 with 1 Axes>"
      ]
     },
     "metadata": {},
     "output_type": "display_data"
    }
   ],
   "source": [
    "fig, ax = plt.subplots()\n",
    "bins = 20\n",
    "histtype = \"step\"\n",
    "rlim = (age_obs.min(), age_obs.max())\n",
    "\n",
    "ax.hist(age_true, bins=bins, histtype=histtype, range=rlim, label='Truth')\n",
    "ax.hist(age_obs, bins=bins, histtype=histtype, range=rlim, label='Observed')\n",
    "ax.set_xlabel(\"Age\")\n",
    "ax.legend();"
   ]
  },
  {
   "cell_type": "code",
   "execution_count": 5,
   "metadata": {},
   "outputs": [
    {
     "name": "stdout",
     "output_type": "stream",
     "text": [
      "true age mean = 10.040548346745357\n",
      "true age standard deviation = 0.48106523056257156\n"
     ]
    }
   ],
   "source": [
    "age_true_mean = np.mean(age_true)\n",
    "age_true_std = np.std(age_true)\n",
    "\n",
    "print(f'true age mean = {age_true_mean}')\n",
    "print(f'true age standard deviation = {age_true_std}')"
   ]
  },
  {
   "cell_type": "markdown",
   "metadata": {},
   "source": [
    "### Creating a model\n",
    "\n",
    "When creating a hierarchical model, we must choose appropriate priors for the mean and standard deviation. You can check the priors alone by commenting out `age` and `obs` below and then running the trace again. You may do this to check the affect of your prior on the posterior distributions for the mean and standard deviations. This example uses a weak prior, because the clown does not know much about Billy's friends. If, for example, you know that Billy only invited friends in the same year of school as himself, then you may confidently reduce the width of the prior.\n",
    "\n",
    "The use of `age` is to introduce an unobserved \"latent variable\" to check consistancy. This is what sets the model a part from a typical Bayesian model."
   ]
  },
  {
   "cell_type": "markdown",
   "metadata": {},
   "source": [
    "Initially, let's assume we only measure ages for the first 10 people."
   ]
  },
  {
   "cell_type": "code",
   "execution_count": 19,
   "metadata": {},
   "outputs": [
    {
     "ename": "SyntaxError",
     "evalue": "'(' was never closed (639223625.py, line 4)",
     "output_type": "error",
     "traceback": [
      "\u001b[0;36m  File \u001b[0;32m\"/tmp/ipykernel_90575/639223625.py\"\u001b[0;36m, line \u001b[0;32m4\u001b[0m\n\u001b[0;31m    mu = pm.Normal('mu', mu= #something, sigma=5.0)\u001b[0m\n\u001b[0m                  ^\u001b[0m\n\u001b[0;31mSyntaxError\u001b[0m\u001b[0;31m:\u001b[0m '(' was never closed\n"
     ]
    }
   ],
   "source": [
    "num_obs = 10\n",
    "\n",
    "with pm.Model() as model:\n",
    "    mu = pm.Normal('mu', mu= #something, sigma=5.0)\n",
    "    sigma = pm.HalfNormal('sigma', sigma=5.0)\n",
    "    \n",
    "    # Sampling from a N(0, 1) distribution and rescaling is more stable\n",
    "    # than sampling from N(mu, sigma)\n",
    "    age = pm.Deterministic('age', mu + sigma * pm.Normal('age_scaled', shape=num_obs))\n",
    "\n",
    "    obs = pm.Normal('obs', mu=age, sigma=age_obs_sig, observed=age_obs[:num_obs])"
   ]
  },
  {
   "cell_type": "code",
   "execution_count": 18,
   "metadata": {},
   "outputs": [
    {
     "ename": "NameError",
     "evalue": "name 'model' is not defined",
     "output_type": "error",
     "traceback": [
      "\u001b[0;31m---------------------------------------------------------------------------\u001b[0m",
      "\u001b[0;31mNameError\u001b[0m                                 Traceback (most recent call last)",
      "\u001b[0;32m/tmp/ipykernel_90575/366605620.py\u001b[0m in \u001b[0;36m<module>\u001b[0;34m\u001b[0m\n\u001b[0;32m----> 1\u001b[0;31m \u001b[0;32mwith\u001b[0m \u001b[0mmodel\u001b[0m\u001b[0;34m:\u001b[0m\u001b[0;34m\u001b[0m\u001b[0;34m\u001b[0m\u001b[0m\n\u001b[0m\u001b[1;32m      2\u001b[0m     \u001b[0mtrace\u001b[0m \u001b[0;34m=\u001b[0m \u001b[0mpm\u001b[0m\u001b[0;34m.\u001b[0m\u001b[0msample\u001b[0m\u001b[0;34m(\u001b[0m\u001b[0;34m)\u001b[0m\u001b[0;34m\u001b[0m\u001b[0;34m\u001b[0m\u001b[0m\n",
      "\u001b[0;31mNameError\u001b[0m: name 'model' is not defined"
     ]
    }
   ],
   "source": [
    "with model:\n",
    "    trace = pm.sample()"
   ]
  },
  {
   "cell_type": "code",
   "execution_count": 17,
   "metadata": {},
   "outputs": [
    {
     "ename": "NameError",
     "evalue": "name 'trace' is not defined",
     "output_type": "error",
     "traceback": [
      "\u001b[0;31m---------------------------------------------------------------------------\u001b[0m",
      "\u001b[0;31mNameError\u001b[0m                                 Traceback (most recent call last)",
      "\u001b[0;32m/tmp/ipykernel_90575/1819597874.py\u001b[0m in \u001b[0;36m<module>\u001b[0;34m\u001b[0m\n\u001b[0;32m----> 1\u001b[0;31m \u001b[0mtrace\u001b[0m\u001b[0;34m\u001b[0m\u001b[0;34m\u001b[0m\u001b[0m\n\u001b[0m",
      "\u001b[0;31mNameError\u001b[0m: name 'trace' is not defined"
     ]
    }
   ],
   "source": [
    "trace"
   ]
  },
  {
   "cell_type": "markdown",
   "metadata": {},
   "source": [
    "Summarize the trace."
   ]
  },
  {
   "cell_type": "code",
   "execution_count": 16,
   "metadata": {},
   "outputs": [
    {
     "ename": "NameError",
     "evalue": "name 'trace' is not defined",
     "output_type": "error",
     "traceback": [
      "\u001b[0;31m---------------------------------------------------------------------------\u001b[0m",
      "\u001b[0;31mNameError\u001b[0m                                 Traceback (most recent call last)",
      "\u001b[0;32m/tmp/ipykernel_90575/2404591971.py\u001b[0m in \u001b[0;36m<module>\u001b[0;34m\u001b[0m\n\u001b[0;32m----> 1\u001b[0;31m \u001b[0maz\u001b[0m\u001b[0;34m.\u001b[0m\u001b[0msummary\u001b[0m\u001b[0;34m(\u001b[0m\u001b[0mtrace\u001b[0m\u001b[0;34m)\u001b[0m\u001b[0;34m\u001b[0m\u001b[0;34m\u001b[0m\u001b[0m\n\u001b[0m",
      "\u001b[0;31mNameError\u001b[0m: name 'trace' is not defined"
     ]
    }
   ],
   "source": [
    "az.summary(trace)"
   ]
  },
  {
   "cell_type": "markdown",
   "metadata": {},
   "source": [
    "Let's look just at the population parameters."
   ]
  },
  {
   "cell_type": "code",
   "execution_count": 15,
   "metadata": {},
   "outputs": [
    {
     "ename": "NameError",
     "evalue": "name 'trace' is not defined",
     "output_type": "error",
     "traceback": [
      "\u001b[0;31m---------------------------------------------------------------------------\u001b[0m",
      "\u001b[0;31mNameError\u001b[0m                                 Traceback (most recent call last)",
      "\u001b[0;32m/tmp/ipykernel_90575/996515866.py\u001b[0m in \u001b[0;36m<module>\u001b[0;34m\u001b[0m\n\u001b[0;32m----> 1\u001b[0;31m \u001b[0maz\u001b[0m\u001b[0;34m.\u001b[0m\u001b[0msummary\u001b[0m\u001b[0;34m(\u001b[0m\u001b[0mtrace\u001b[0m\u001b[0;34m,\u001b[0m \u001b[0mvar_names\u001b[0m\u001b[0;34m=\u001b[0m\u001b[0;34m[\u001b[0m\u001b[0;34m'mu'\u001b[0m\u001b[0;34m,\u001b[0m \u001b[0;34m'sigma'\u001b[0m\u001b[0;34m]\u001b[0m\u001b[0;34m)\u001b[0m\u001b[0;34m\u001b[0m\u001b[0;34m\u001b[0m\u001b[0m\n\u001b[0m",
      "\u001b[0;31mNameError\u001b[0m: name 'trace' is not defined"
     ]
    }
   ],
   "source": [
    "az.summary(trace, var_names=['mu', 'sigma'])"
   ]
  },
  {
   "cell_type": "code",
   "execution_count": 14,
   "metadata": {},
   "outputs": [
    {
     "ename": "NameError",
     "evalue": "name 'trace' is not defined",
     "output_type": "error",
     "traceback": [
      "\u001b[0;31m---------------------------------------------------------------------------\u001b[0m",
      "\u001b[0;31mNameError\u001b[0m                                 Traceback (most recent call last)",
      "\u001b[0;32m/tmp/ipykernel_90575/1750583736.py\u001b[0m in \u001b[0;36m<module>\u001b[0;34m\u001b[0m\n\u001b[0;32m----> 1\u001b[0;31m \u001b[0maz\u001b[0m\u001b[0;34m.\u001b[0m\u001b[0mplot_trace\u001b[0m\u001b[0;34m(\u001b[0m\u001b[0mtrace\u001b[0m\u001b[0;34m,\u001b[0m \u001b[0mvar_names\u001b[0m\u001b[0;34m=\u001b[0m\u001b[0;34m[\u001b[0m\u001b[0;34m'mu'\u001b[0m\u001b[0;34m,\u001b[0m \u001b[0;34m'sigma'\u001b[0m\u001b[0;34m]\u001b[0m\u001b[0;34m)\u001b[0m\u001b[0;34m\u001b[0m\u001b[0;34m\u001b[0m\u001b[0m\n\u001b[0m\u001b[1;32m      2\u001b[0m \u001b[0mplt\u001b[0m\u001b[0;34m.\u001b[0m\u001b[0mtight_layout\u001b[0m\u001b[0;34m(\u001b[0m\u001b[0;34m)\u001b[0m\u001b[0;34m\u001b[0m\u001b[0;34m\u001b[0m\u001b[0m\n",
      "\u001b[0;31mNameError\u001b[0m: name 'trace' is not defined"
     ]
    }
   ],
   "source": [
    "az.plot_trace(trace, var_names=['mu', 'sigma'])\n",
    "plt.tight_layout()"
   ]
  },
  {
   "cell_type": "code",
   "execution_count": 13,
   "metadata": {},
   "outputs": [
    {
     "ename": "NameError",
     "evalue": "name 'trace' is not defined",
     "output_type": "error",
     "traceback": [
      "\u001b[0;31m---------------------------------------------------------------------------\u001b[0m",
      "\u001b[0;31mNameError\u001b[0m                                 Traceback (most recent call last)",
      "\u001b[0;32m/tmp/ipykernel_90575/2613599713.py\u001b[0m in \u001b[0;36m<module>\u001b[0;34m\u001b[0m\n\u001b[0;32m----> 1\u001b[0;31m fig = corner(trace, var_names=[\"mu\", \"sigma\"],\n\u001b[0m\u001b[1;32m      2\u001b[0m              truths={\"mu\": age_true_mean, \"sigma\": age_true_std})\n",
      "\u001b[0;31mNameError\u001b[0m: name 'trace' is not defined"
     ]
    }
   ],
   "source": [
    "fig = corner(trace, var_names=[\"mu\", \"sigma\"],\n",
    "             truths={\"mu\": age_true_mean, \"sigma\": age_true_std})"
   ]
  },
  {
   "cell_type": "code",
   "execution_count": 11,
   "metadata": {},
   "outputs": [
    {
     "ename": "NameError",
     "evalue": "name 'trace' is not defined",
     "output_type": "error",
     "traceback": [
      "\u001b[0;31m---------------------------------------------------------------------------\u001b[0m",
      "\u001b[0;31mNameError\u001b[0m                                 Traceback (most recent call last)",
      "\u001b[0;32m/tmp/ipykernel_90575/3706006356.py\u001b[0m in \u001b[0;36m<module>\u001b[0;34m\u001b[0m\n\u001b[0;32m----> 1\u001b[0;31m \u001b[0merror\u001b[0m \u001b[0;34m=\u001b[0m \u001b[0mtrace\u001b[0m\u001b[0;34m.\u001b[0m\u001b[0mposterior\u001b[0m\u001b[0;34m.\u001b[0m\u001b[0mage\u001b[0m \u001b[0;34m-\u001b[0m \u001b[0mage_true\u001b[0m\u001b[0;34m[\u001b[0m\u001b[0;34m:\u001b[0m\u001b[0mnum_obs\u001b[0m\u001b[0;34m]\u001b[0m\u001b[0;34m\u001b[0m\u001b[0;34m\u001b[0m\u001b[0m\n\u001b[0m\u001b[1;32m      2\u001b[0m \u001b[0;34m\u001b[0m\u001b[0m\n\u001b[1;32m      3\u001b[0m \u001b[0mfig\u001b[0m\u001b[0;34m,\u001b[0m \u001b[0max\u001b[0m \u001b[0;34m=\u001b[0m \u001b[0mplt\u001b[0m\u001b[0;34m.\u001b[0m\u001b[0msubplots\u001b[0m\u001b[0;34m(\u001b[0m\u001b[0;34m)\u001b[0m\u001b[0;34m\u001b[0m\u001b[0;34m\u001b[0m\u001b[0m\n\u001b[1;32m      4\u001b[0m \u001b[0maz\u001b[0m\u001b[0;34m.\u001b[0m\u001b[0mplot_density\u001b[0m\u001b[0;34m(\u001b[0m\u001b[0merror\u001b[0m\u001b[0;34m,\u001b[0m \u001b[0mcombine_dims\u001b[0m\u001b[0;34m=\u001b[0m\u001b[0;34m{\u001b[0m\u001b[0;34m\"age_dim_0\"\u001b[0m\u001b[0;34m}\u001b[0m\u001b[0;34m,\u001b[0m \u001b[0max\u001b[0m\u001b[0;34m=\u001b[0m\u001b[0max\u001b[0m\u001b[0;34m,\u001b[0m \u001b[0mcolors\u001b[0m\u001b[0;34m=\u001b[0m\u001b[0;34m\"C1\"\u001b[0m\u001b[0;34m,\u001b[0m \u001b[0mhdi_prob\u001b[0m\u001b[0;34m=\u001b[0m\u001b[0;36m0.999\u001b[0m\u001b[0;34m)\u001b[0m\u001b[0;34m;\u001b[0m\u001b[0;34m\u001b[0m\u001b[0;34m\u001b[0m\u001b[0m\n\u001b[1;32m      5\u001b[0m \u001b[0max\u001b[0m\u001b[0;34m.\u001b[0m\u001b[0mset_title\u001b[0m\u001b[0;34m(\u001b[0m\u001b[0;34m\"Age Error\"\u001b[0m\u001b[0;34m)\u001b[0m\u001b[0;34m\u001b[0m\u001b[0;34m\u001b[0m\u001b[0m\n",
      "\u001b[0;31mNameError\u001b[0m: name 'trace' is not defined"
     ]
    }
   ],
   "source": [
    "error = trace.posterior.age - age_true[:num_obs]\n",
    "\n",
    "fig, ax = plt.subplots()\n",
    "az.plot_density(error, combine_dims={\"age_dim_0\"}, ax=ax, colors=\"C1\", hdi_prob=0.999);\n",
    "ax.set_title(\"Age Error\")\n",
    "ax.set_xlabel(\"Age\");"
   ]
  },
  {
   "cell_type": "markdown",
   "metadata": {},
   "source": [
    "Now we will add a very well-known data point, one might expect this to help. We give it a very small observed age."
   ]
  },
  {
   "cell_type": "code",
   "execution_count": 14,
   "metadata": {},
   "outputs": [],
   "source": [
    "num_obs = n  # observe all ages\n",
    "\n",
    "with pm.Model() as model_all:\n",
    "    # What should go here?"
   ]
  },
  {
   "cell_type": "code",
   "execution_count": 15,
   "metadata": {},
   "outputs": [
    {
     "name": "stderr",
     "output_type": "stream",
     "text": [
      "Auto-assigning NUTS sampler...\n",
      "Initializing NUTS using jitter+adapt_diag...\n",
      "Multiprocess sampling (4 chains in 4 jobs)\n",
      "NUTS: [mu, sigma, age_scaled]\n"
     ]
    },
    {
     "data": {
      "text/html": [
       "\n",
       "<style>\n",
       "    /* Turns off some styling */\n",
       "    progress {\n",
       "        /* gets rid of default border in Firefox and Opera. */\n",
       "        border: none;\n",
       "        /* Needs to be in here for Safari polyfill so background images work as expected. */\n",
       "        background-size: auto;\n",
       "    }\n",
       "    progress:not([value]), progress:not([value])::-webkit-progress-bar {\n",
       "        background: repeating-linear-gradient(45deg, #7e7e7e, #7e7e7e 10px, #5c5c5c 10px, #5c5c5c 20px);\n",
       "    }\n",
       "    .progress-bar-interrupted, .progress-bar-interrupted::-webkit-progress-bar {\n",
       "        background: #F44336;\n",
       "    }\n",
       "</style>\n"
      ],
      "text/plain": [
       "<IPython.core.display.HTML object>"
      ]
     },
     "metadata": {},
     "output_type": "display_data"
    },
    {
     "data": {
      "text/html": [
       "\n",
       "    <div>\n",
       "      <progress value='8000' class='' max='8000' style='width:300px; height:20px; vertical-align: middle;'></progress>\n",
       "      100.00% [8000/8000 00:01&lt;00:00 Sampling 4 chains, 5 divergences]\n",
       "    </div>\n",
       "    "
      ],
      "text/plain": [
       "<IPython.core.display.HTML object>"
      ]
     },
     "metadata": {},
     "output_type": "display_data"
    },
    {
     "name": "stderr",
     "output_type": "stream",
     "text": [
      "Sampling 4 chains for 1_000 tune and 1_000 draw iterations (4_000 + 4_000 draws total) took 2 seconds.\n",
      "There were 5 divergences after tuning. Increase `target_accept` or reparameterize.\n"
     ]
    }
   ],
   "source": [
    "with model_all:\n",
    "    trace_all = pm.sample()"
   ]
  },
  {
   "cell_type": "code",
   "execution_count": 4,
   "metadata": {},
   "outputs": [
    {
     "ename": "NameError",
     "evalue": "name 'trace_all' is not defined",
     "output_type": "error",
     "traceback": [
      "\u001b[0;31m---------------------------------------------------------------------------\u001b[0m",
      "\u001b[0;31mNameError\u001b[0m                                 Traceback (most recent call last)",
      "\u001b[0;32m/tmp/ipykernel_90575/2246589116.py\u001b[0m in \u001b[0;36m<module>\u001b[0;34m\u001b[0m\n\u001b[0;32m----> 1\u001b[0;31m \u001b[0mtrace_all\u001b[0m\u001b[0;34m\u001b[0m\u001b[0;34m\u001b[0m\u001b[0m\n\u001b[0m",
      "\u001b[0;31mNameError\u001b[0m: name 'trace_all' is not defined"
     ]
    }
   ],
   "source": [
    "trace_all"
   ]
  },
  {
   "cell_type": "code",
   "execution_count": 5,
   "metadata": {},
   "outputs": [
    {
     "ename": "NameError",
     "evalue": "name 'trace_all' is not defined",
     "output_type": "error",
     "traceback": [
      "\u001b[0;31m---------------------------------------------------------------------------\u001b[0m",
      "\u001b[0;31mNameError\u001b[0m                                 Traceback (most recent call last)",
      "\u001b[0;32m/tmp/ipykernel_90575/3301294202.py\u001b[0m in \u001b[0;36m<module>\u001b[0;34m\u001b[0m\n\u001b[0;32m----> 1\u001b[0;31m \u001b[0maz\u001b[0m\u001b[0;34m.\u001b[0m\u001b[0msummary\u001b[0m\u001b[0;34m(\u001b[0m\u001b[0mtrace_all\u001b[0m\u001b[0;34m)\u001b[0m\u001b[0;34m\u001b[0m\u001b[0;34m\u001b[0m\u001b[0m\n\u001b[0m",
      "\u001b[0;31mNameError\u001b[0m: name 'trace_all' is not defined"
     ]
    }
   ],
   "source": [
    "az.summary(trace_all)"
   ]
  },
  {
   "cell_type": "code",
   "execution_count": 6,
   "metadata": {},
   "outputs": [
    {
     "ename": "NameError",
     "evalue": "name 'trace_all' is not defined",
     "output_type": "error",
     "traceback": [
      "\u001b[0;31m---------------------------------------------------------------------------\u001b[0m",
      "\u001b[0;31mNameError\u001b[0m                                 Traceback (most recent call last)",
      "\u001b[0;32m/tmp/ipykernel_90575/3485619347.py\u001b[0m in \u001b[0;36m<module>\u001b[0;34m\u001b[0m\n\u001b[0;32m----> 1\u001b[0;31m \u001b[0maz\u001b[0m\u001b[0;34m.\u001b[0m\u001b[0msummary\u001b[0m\u001b[0;34m(\u001b[0m\u001b[0mtrace_all\u001b[0m\u001b[0;34m,\u001b[0m \u001b[0mvar_names\u001b[0m\u001b[0;34m=\u001b[0m\u001b[0;34m[\u001b[0m\u001b[0;34m'mu'\u001b[0m\u001b[0;34m,\u001b[0m \u001b[0;34m'sigma'\u001b[0m\u001b[0;34m]\u001b[0m\u001b[0;34m)\u001b[0m\u001b[0;34m\u001b[0m\u001b[0;34m\u001b[0m\u001b[0m\n\u001b[0m",
      "\u001b[0;31mNameError\u001b[0m: name 'trace_all' is not defined"
     ]
    }
   ],
   "source": [
    "az.summary(trace_all, var_names=['mu', 'sigma'])"
   ]
  },
  {
   "cell_type": "code",
   "execution_count": 7,
   "metadata": {},
   "outputs": [
    {
     "ename": "NameError",
     "evalue": "name 'trace_all' is not defined",
     "output_type": "error",
     "traceback": [
      "\u001b[0;31m---------------------------------------------------------------------------\u001b[0m",
      "\u001b[0;31mNameError\u001b[0m                                 Traceback (most recent call last)",
      "\u001b[0;32m/tmp/ipykernel_90575/310833127.py\u001b[0m in \u001b[0;36m<module>\u001b[0;34m\u001b[0m\n\u001b[0;32m----> 1\u001b[0;31m \u001b[0maz\u001b[0m\u001b[0;34m.\u001b[0m\u001b[0mplot_trace\u001b[0m\u001b[0;34m(\u001b[0m\u001b[0mtrace_all\u001b[0m\u001b[0;34m,\u001b[0m \u001b[0mvar_names\u001b[0m\u001b[0;34m=\u001b[0m\u001b[0;34m[\u001b[0m\u001b[0;34m'mu'\u001b[0m\u001b[0;34m,\u001b[0m \u001b[0;34m'sigma'\u001b[0m\u001b[0;34m]\u001b[0m\u001b[0;34m)\u001b[0m\u001b[0;34m\u001b[0m\u001b[0;34m\u001b[0m\u001b[0m\n\u001b[0m\u001b[1;32m      2\u001b[0m \u001b[0mplt\u001b[0m\u001b[0;34m.\u001b[0m\u001b[0mtight_layout\u001b[0m\u001b[0;34m(\u001b[0m\u001b[0;34m)\u001b[0m\u001b[0;34m\u001b[0m\u001b[0;34m\u001b[0m\u001b[0m\n",
      "\u001b[0;31mNameError\u001b[0m: name 'trace_all' is not defined"
     ]
    }
   ],
   "source": [
    "az.plot_trace(trace_all, var_names=['mu', 'sigma'])\n",
    "plt.tight_layout()"
   ]
  },
  {
   "cell_type": "code",
   "execution_count": 8,
   "metadata": {},
   "outputs": [
    {
     "ename": "NameError",
     "evalue": "name 'trace_all' is not defined",
     "output_type": "error",
     "traceback": [
      "\u001b[0;31m---------------------------------------------------------------------------\u001b[0m",
      "\u001b[0;31mNameError\u001b[0m                                 Traceback (most recent call last)",
      "\u001b[0;32m/tmp/ipykernel_90575/3023199744.py\u001b[0m in \u001b[0;36m<module>\u001b[0;34m\u001b[0m\n\u001b[0;32m----> 1\u001b[0;31m fig = corner(trace_all, var_names=[\"mu\", \"sigma\"],\n\u001b[0m\u001b[1;32m      2\u001b[0m              truths={\"mu\": age_true_mean, \"sigma\": age_true_std})\n",
      "\u001b[0;31mNameError\u001b[0m: name 'trace_all' is not defined"
     ]
    }
   ],
   "source": [
    "fig = corner(trace_all, var_names=[\"mu\", \"sigma\"],\n",
    "             truths={\"mu\": age_true_mean, \"sigma\": age_true_std})"
   ]
  },
  {
   "cell_type": "markdown",
   "metadata": {},
   "source": [
    "See the improvement from more observations."
   ]
  },
  {
   "cell_type": "code",
   "execution_count": 9,
   "metadata": {},
   "outputs": [
    {
     "ename": "NameError",
     "evalue": "name 'trace' is not defined",
     "output_type": "error",
     "traceback": [
      "\u001b[0;31m---------------------------------------------------------------------------\u001b[0m",
      "\u001b[0;31mNameError\u001b[0m                                 Traceback (most recent call last)",
      "\u001b[0;32m/tmp/ipykernel_90575/1167402724.py\u001b[0m in \u001b[0;36m<module>\u001b[0;34m\u001b[0m\n\u001b[0;32m----> 1\u001b[0;31m \u001b[0mfig\u001b[0m \u001b[0;34m=\u001b[0m \u001b[0mcorner\u001b[0m\u001b[0;34m(\u001b[0m\u001b[0mtrace\u001b[0m\u001b[0;34m,\u001b[0m \u001b[0mvar_names\u001b[0m\u001b[0;34m=\u001b[0m\u001b[0;34m[\u001b[0m\u001b[0;34m\"mu\"\u001b[0m\u001b[0;34m,\u001b[0m \u001b[0;34m\"sigma\"\u001b[0m\u001b[0;34m]\u001b[0m\u001b[0;34m,\u001b[0m \u001b[0mcolor\u001b[0m\u001b[0;34m=\u001b[0m\u001b[0;34m\"C1\"\u001b[0m\u001b[0;34m)\u001b[0m\u001b[0;34m\u001b[0m\u001b[0;34m\u001b[0m\u001b[0m\n\u001b[0m\u001b[1;32m      2\u001b[0m \u001b[0;34m\u001b[0m\u001b[0m\n\u001b[1;32m      3\u001b[0m fig = corner(trace_all, var_names=[\"mu\", \"sigma\"], color=\"C2\",\n\u001b[1;32m      4\u001b[0m              truths={\"mu\": age_true_mean, \"sigma\": age_true_std}, fig=fig)\n",
      "\u001b[0;31mNameError\u001b[0m: name 'trace' is not defined"
     ]
    }
   ],
   "source": [
    "fig = corner(trace, var_names=[\"mu\", \"sigma\"], color=\"C1\")\n",
    "\n",
    "fig = corner(trace_all, var_names=[\"mu\", \"sigma\"], color=\"C2\",\n",
    "             truths={\"mu\": age_true_mean, \"sigma\": age_true_std}, fig=fig)"
   ]
  },
  {
   "cell_type": "code",
   "execution_count": 10,
   "metadata": {},
   "outputs": [
    {
     "ename": "NameError",
     "evalue": "name 'trace_all' is not defined",
     "output_type": "error",
     "traceback": [
      "\u001b[0;31m---------------------------------------------------------------------------\u001b[0m",
      "\u001b[0;31mNameError\u001b[0m                                 Traceback (most recent call last)",
      "\u001b[0;32m/tmp/ipykernel_90575/2861679776.py\u001b[0m in \u001b[0;36m<module>\u001b[0;34m\u001b[0m\n\u001b[0;32m----> 1\u001b[0;31m \u001b[0merror_all\u001b[0m \u001b[0;34m=\u001b[0m \u001b[0mtrace_all\u001b[0m\u001b[0;34m.\u001b[0m\u001b[0mposterior\u001b[0m\u001b[0;34m.\u001b[0m\u001b[0mage\u001b[0m \u001b[0;34m-\u001b[0m \u001b[0mage_true\u001b[0m\u001b[0;34m\u001b[0m\u001b[0;34m\u001b[0m\u001b[0m\n\u001b[0m\u001b[1;32m      2\u001b[0m \u001b[0;34m\u001b[0m\u001b[0m\n\u001b[1;32m      3\u001b[0m \u001b[0mfig\u001b[0m\u001b[0;34m,\u001b[0m \u001b[0max\u001b[0m \u001b[0;34m=\u001b[0m \u001b[0mplt\u001b[0m\u001b[0;34m.\u001b[0m\u001b[0msubplots\u001b[0m\u001b[0;34m(\u001b[0m\u001b[0;34m)\u001b[0m\u001b[0;34m\u001b[0m\u001b[0;34m\u001b[0m\u001b[0m\n\u001b[1;32m      4\u001b[0m \u001b[0maz\u001b[0m\u001b[0;34m.\u001b[0m\u001b[0mplot_density\u001b[0m\u001b[0;34m(\u001b[0m\u001b[0merror\u001b[0m\u001b[0;34m,\u001b[0m \u001b[0mcombine_dims\u001b[0m\u001b[0;34m=\u001b[0m\u001b[0;34m{\u001b[0m\u001b[0;34m\"age_dim_0\"\u001b[0m\u001b[0;34m}\u001b[0m\u001b[0;34m,\u001b[0m \u001b[0max\u001b[0m\u001b[0;34m=\u001b[0m\u001b[0max\u001b[0m\u001b[0;34m,\u001b[0m \u001b[0mcolors\u001b[0m\u001b[0;34m=\u001b[0m\u001b[0;34m\"C1\"\u001b[0m\u001b[0;34m,\u001b[0m \u001b[0mhdi_prob\u001b[0m\u001b[0;34m=\u001b[0m\u001b[0;36m0.999\u001b[0m\u001b[0;34m)\u001b[0m\u001b[0;34m;\u001b[0m\u001b[0;34m\u001b[0m\u001b[0;34m\u001b[0m\u001b[0m\n\u001b[1;32m      5\u001b[0m \u001b[0maz\u001b[0m\u001b[0;34m.\u001b[0m\u001b[0mplot_density\u001b[0m\u001b[0;34m(\u001b[0m\u001b[0merror_all\u001b[0m\u001b[0;34m,\u001b[0m \u001b[0mcombine_dims\u001b[0m\u001b[0;34m=\u001b[0m\u001b[0;34m{\u001b[0m\u001b[0;34m\"age_dim_0\"\u001b[0m\u001b[0;34m}\u001b[0m\u001b[0;34m,\u001b[0m \u001b[0max\u001b[0m\u001b[0;34m=\u001b[0m\u001b[0max\u001b[0m\u001b[0;34m,\u001b[0m \u001b[0mcolors\u001b[0m\u001b[0;34m=\u001b[0m\u001b[0;34m\"C2\"\u001b[0m\u001b[0;34m,\u001b[0m \u001b[0mhdi_prob\u001b[0m\u001b[0;34m=\u001b[0m\u001b[0;36m0.999\u001b[0m\u001b[0;34m)\u001b[0m\u001b[0;34m;\u001b[0m\u001b[0;34m\u001b[0m\u001b[0;34m\u001b[0m\u001b[0m\n",
      "\u001b[0;31mNameError\u001b[0m: name 'trace_all' is not defined"
     ]
    }
   ],
   "source": [
    "error_all = trace_all.posterior.age - age_true\n",
    "\n",
    "fig, ax = plt.subplots()\n",
    "az.plot_density(error, combine_dims={\"age_dim_0\"}, ax=ax, colors=\"C1\", hdi_prob=0.999);\n",
    "az.plot_density(error_all, combine_dims={\"age_dim_0\"}, ax=ax, colors=\"C2\", hdi_prob=0.999);\n",
    "\n",
    "ax.set_title(\"Age Error\")\n",
    "ax.set_xlabel(\"Age\");"
   ]
  },
  {
   "cell_type": "code",
   "execution_count": null,
   "metadata": {},
   "outputs": [],
   "source": []
  }
 ],
 "metadata": {
  "file_extension": ".py",
  "kernelspec": {
   "display_name": "Python 3",
   "language": "python",
   "name": "python3"
  },
  "mimetype": "text/x-python",
  "name": "python",
  "npconvert_exporter": "python",
  "pygments_lexer": "ipython3",
  "version": 3
 },
 "nbformat": 4,
 "nbformat_minor": 2
}
