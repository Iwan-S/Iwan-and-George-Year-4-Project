{
 "cells": [
  {
   "cell_type": "markdown",
   "metadata": {},
   "source": [
    "# Bayesianness"
   ]
  },
  {
   "cell_type": "markdown",
   "metadata": {},
   "source": [
    "Importing the necessary modules"
   ]
  },
  {
   "cell_type": "code",
   "execution_count": 1,
   "metadata": {},
   "outputs": [],
   "source": [
    "import numpy as np\n",
    "import matplotlib.pyplot as plt\n",
    "from scipy.optimize import curve_fit\n",
    "from scipy.optimize import minimize"
   ]
  },
  {
   "cell_type": "markdown",
   "metadata": {},
   "source": [
    "Code used to fit a model to data I nicked from a previous bit of work I did."
   ]
  },
  {
   "cell_type": "code",
   "execution_count": 2,
   "metadata": {},
   "outputs": [],
   "source": [
    "def Model(x, m, c):\n",
    "    return m*x + c\n",
    "\n",
    "def Minimise_m(m, Data_x, Data_y, c):\n",
    "    Running_total = 0\n",
    "    for n in range(len(Data_x)):\n",
    "        Running_total += (Data_y[n] - Model(Data_x[n], m, c))**2\n",
    "    return Running_total\n",
    "\n",
    "def Minimise_c(c, Data_x, Data_y, m):\n",
    "    Running_total = 0\n",
    "    for n in range(len(Data_x)):\n",
    "        Running_total += (Data_y[n] - Model(Data_x[n], m, c))**2\n",
    "    return Running_total"
   ]
  },
  {
   "cell_type": "markdown",
   "metadata": {},
   "source": [
    "Creating a random set of numbers normally distributed and inputting it into y. A model is then created for this set of data."
   ]
  },
  {
   "cell_type": "code",
   "execution_count": 3,
   "metadata": {},
   "outputs": [],
   "source": [
    "x = np.random.randn(20)\n",
    "m, c = 2, 3\n",
    "noise = np.random.randn(20)\n",
    "y = Model(x, m, c + noise)"
   ]
  },
  {
   "cell_type": "code",
   "execution_count": 4,
   "metadata": {},
   "outputs": [],
   "source": [
    "m_result = minimize(Minimise_m, 0, args=(x, y, c)).x\n",
    "c_result = minimize(Minimise_c, 0, args=(x, y, m)).x\n",
    "params = [m_result, c_result]"
   ]
  },
  {
   "cell_type": "code",
   "execution_count": 5,
   "metadata": {},
   "outputs": [],
   "source": [
    "Output_x = np.linspace(min(x), max(x), 1000)\n",
    "Output_y = Model(Output_x, *params)"
   ]
  },
  {
   "cell_type": "code",
   "execution_count": 6,
   "metadata": {},
   "outputs": [
    {
     "data": {
      "image/png": "[encoded data removed]",
      "text/plain": [
       "<Figure size 432x288 with 1 Axes>"
      ]
     },
     "metadata": {
      "needs_background": "light"
     },
     "output_type": "display_data"
    }
   ],
   "source": [
    "plt.figure()\n",
    "plt.plot(x, y, '.', label='Normally Distributed Data')\n",
    "plt.plot(Output_x, Output_y, label='Model for Data')\n",
    "plt.title('Fitting a Straight Line to Data')\n",
    "plt.xlabel('x')\n",
    "plt.ylabel('y = f(x)')\n",
    "plt.legend()\n",
    "plt.show()"
   ]
  }
 ],
 "metadata": {
  "kernelspec": {
   "display_name": "Python 3",
   "language": "python",
   "name": "python3"
  },
  "language_info": {
   "codemirror_mode": {
    "name": "ipython",
    "version": 3
   },
   "file_extension": ".py",
   "mimetype": "text/x-python",
   "name": "python",
   "nbconvert_exporter": "python",
   "pygments_lexer": "ipython3",
   "version": "3.8.3"
  }
 },
 "nbformat": 4,
 "nbformat_minor": 4
}
