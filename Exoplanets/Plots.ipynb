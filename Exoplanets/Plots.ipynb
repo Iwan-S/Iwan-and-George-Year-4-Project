{
 "cells": [
  {
   "cell_type": "code",
   "execution_count": 1,
   "id": "e71121ab",
   "metadata": {},
   "outputs": [],
   "source": [
    "\n",
    "def Data_check(Data, headers=False):\n",
    "    headers = Data.columns if type(headers) is bool else headers \n",
    "    bool_array = [pd.notna(Data[col_name]) for col_name in headers]\n",
    "    check = np.flipud(np.rot90(bool_array))\n",
    "    return check\n",
    "\n",
    "def Find_least_error(Data, Checked_data, headers, error_headers, pm_seperation=True):\n",
    "    least_error_array = []\n",
    "    for row, boolean in enumerate(Checked_data):\n",
    "        previous_error = np.inf\n",
    "        for dataset, error_header in enumerate(error_headers):\n",
    "            if sum(boolean) == 0:\n",
    "                lowest_error = False\n",
    "                break\n",
    "            if boolean[dataset]:\n",
    "                if pm_seperation:\n",
    "                    current_error = Data[error_header[0]][row] + Data[error_header[1]][row]\n",
    "                else:\n",
    "                    current_error = 2*Data[error_header][row]\n",
    "                if current_error < previous_error:\n",
    "                    previous_error = current_error\n",
    "                    lowest_error = headers[dataset]\n",
    "        least_error_array.append(lowest_error)\n",
    "    return least_error_array\n",
    "\n",
    "def Ensure_all(All_variables):\n",
    "    total_info = []\n",
    "    num_stars = len(All_variables[0])\n",
    "    for star_index in range(num_stars):\n",
    "        object_info = [star_index]\n",
    "        eliminate = False\n",
    "        for variable_source in All_variables:\n",
    "            eliminate = type(variable_source[star_index]) is bool\n",
    "            if eliminate:\n",
    "                break\n",
    "            object_info.append(variable_source[star_index])\n",
    "        if eliminate:\n",
    "            continue\n",
    "        total_info.append(object_info)\n",
    "    return total_info\n",
    "\n",
    "def Get_filtered_arrays(Data, Filtered_headers):\n",
    "    Total_data = []\n",
    "    for row in Filtered_headers:\n",
    "        row_data = []\n",
    "        for index in range(1, len(row)):\n",
    "            row_data.append(Data[row[index]][row[0]])\n",
    "        Total_data.append(row_data)\n",
    "    return np.array(Total_data)"
   ]
  },
  {
   "cell_type": "code",
   "execution_count": 2,
   "id": "80f2fe5b",
   "metadata": {},
   "outputs": [],
   "source": [
    "import numpy as np\n",
    "import matplotlib.pyplot as plt\n",
    "import pandas as pd\n",
    "import scipy.constants as const\n",
    "import seaborn as sns"
   ]
  },
  {
   "cell_type": "code",
   "execution_count": 3,
   "id": "a9a08202",
   "metadata": {},
   "outputs": [],
   "source": [
    "%matplotlib notebook"
   ]
  },
  {
   "cell_type": "code",
   "execution_count": 4,
   "id": "aa1c3967",
   "metadata": {},
   "outputs": [],
   "source": [
    "def Create_dataframes(filenames, directory):\n",
    "    dataframes = []\n",
    "    for name in filenames:\n",
    "        file_directory = f'{directory}/{name}.csv'\n",
    "        data = pd.read_csv(file_directory)\n",
    "        dataframes.append(data)\n",
    "    return dataframes\n",
    "\n",
    "Main_directory = 'C:/Users/Iwan/Documents/GitHub/Iwan-and-George-Year-4-Project/Exoplanets'\n",
    "All_stars_directory = f'{Main_directory}/Sorted Data/Stars'\n",
    "All_planets_directory = f'{Main_directory}/Sorted Data/Planets'\n",
    "\n",
    "star_filenames = ['Mega All Stars','Gaia All Stars', 'Exo All Stars', \n",
    "             'Fulton All Stars', 'VanEylen All Stars', 'BASTA All Stars']\n",
    "\n",
    "planet_filenames = ['Mega All Planets', 'VanHo All Planets', \n",
    "                    'Fulton All Planets', 'VanEylen All Planets']\n",
    "\n",
    "starframes = Create_dataframes(star_filenames, All_stars_directory)\n",
    "planetframes = Create_dataframes(planet_filenames, All_planets_directory)"
   ]
  },
  {
   "cell_type": "code",
   "execution_count": 5,
   "id": "45994105",
   "metadata": {},
   "outputs": [
    {
     "ename": "NameError",
     "evalue": "name 'All_stars_data' is not defined",
     "output_type": "error",
     "traceback": [
      "\u001b[1;31m---------------------------------------------------------------------------\u001b[0m",
      "\u001b[1;31mNameError\u001b[0m                                 Traceback (most recent call last)",
      "Cell \u001b[1;32mIn[5], line 4\u001b[0m\n\u001b[0;32m      1\u001b[0m Teff_headers \u001b[38;5;241m=\u001b[39m [\u001b[38;5;124m'\u001b[39m\u001b[38;5;124mTeff (Gaia)\u001b[39m\u001b[38;5;124m'\u001b[39m, \u001b[38;5;124m'\u001b[39m\u001b[38;5;124mTeff (Exo)\u001b[39m\u001b[38;5;124m'\u001b[39m, \u001b[38;5;124m'\u001b[39m\u001b[38;5;124mTeff (Fulton)\u001b[39m\u001b[38;5;124m'\u001b[39m, \u001b[38;5;124m'\u001b[39m\u001b[38;5;124mTeff (Van Eylen)\u001b[39m\u001b[38;5;124m'\u001b[39m]\n\u001b[0;32m      2\u001b[0m Rad_headers \u001b[38;5;241m=\u001b[39m [\u001b[38;5;124m'\u001b[39m\u001b[38;5;124mRadius (Gaia)\u001b[39m\u001b[38;5;124m'\u001b[39m, \u001b[38;5;124m'\u001b[39m\u001b[38;5;124mRadius (Fulton)\u001b[39m\u001b[38;5;124m'\u001b[39m, \u001b[38;5;124m'\u001b[39m\u001b[38;5;124mRadius (Van Eylen)\u001b[39m\u001b[38;5;124m'\u001b[39m]\n\u001b[1;32m----> 4\u001b[0m Teff_check \u001b[38;5;241m=\u001b[39m Data_check(All_stars_data, Teff_headers)\n\u001b[0;32m      5\u001b[0m Rad_check \u001b[38;5;241m=\u001b[39m Data_check(All_stars_data, Rad_headers)\n\u001b[0;32m      7\u001b[0m Teff_error_headers \u001b[38;5;241m=\u001b[39m [[\u001b[38;5;124m'\u001b[39m\u001b[38;5;124mTeff pe (Gaia)\u001b[39m\u001b[38;5;124m'\u001b[39m, \u001b[38;5;124m'\u001b[39m\u001b[38;5;124mTeff me (Gaia)\u001b[39m\u001b[38;5;124m'\u001b[39m], \n\u001b[0;32m      8\u001b[0m                       [\u001b[38;5;124m'\u001b[39m\u001b[38;5;124mTeff pe (Exo)\u001b[39m\u001b[38;5;124m'\u001b[39m, \u001b[38;5;124m'\u001b[39m\u001b[38;5;124mTeff me (Exo)\u001b[39m\u001b[38;5;124m'\u001b[39m], \n\u001b[0;32m      9\u001b[0m                       [\u001b[38;5;124m'\u001b[39m\u001b[38;5;124mTeff pe (Fulton)\u001b[39m\u001b[38;5;124m'\u001b[39m, \u001b[38;5;124m'\u001b[39m\u001b[38;5;124mTeff me (Fulton)\u001b[39m\u001b[38;5;124m'\u001b[39m],\n\u001b[0;32m     10\u001b[0m                       [\u001b[38;5;124m'\u001b[39m\u001b[38;5;124mTeff pe (Van Eylen)\u001b[39m\u001b[38;5;124m'\u001b[39m, \u001b[38;5;124m'\u001b[39m\u001b[38;5;124mTeff me (Van Eylen)\u001b[39m\u001b[38;5;124m'\u001b[39m]]\n",
      "\u001b[1;31mNameError\u001b[0m: name 'All_stars_data' is not defined"
     ]
    }
   ],
   "source": [
    "Teff_headers = ['Teff (Gaia)', 'Teff (Exo)', 'Teff (Fulton)', 'Teff (Van Eylen)']\n",
    "Rad_headers = ['Radius (Gaia)', 'Radius (Fulton)', 'Radius (Van Eylen)']\n",
    "\n",
    "Teff_check = Data_check(All_stars_data, Teff_headers)\n",
    "Rad_check = Data_check(All_stars_data, Rad_headers)\n",
    "\n",
    "Teff_error_headers = [['Teff pe (Gaia)', 'Teff me (Gaia)'], \n",
    "                      ['Teff pe (Exo)', 'Teff me (Exo)'], \n",
    "                      ['Teff pe (Fulton)', 'Teff me (Fulton)'],\n",
    "                      ['Teff pe (Van Eylen)', 'Teff me (Van Eylen)']]\n",
    "\n",
    "Rad_error_headers = [['Rad pe (Gaia)', 'Rad me (Gaia)'],\n",
    "                     ['Rad pe (Fulton)', 'Rad me (Fulton)'],\n",
    "                     ['Rad pe (Van Eylen)', 'Rad me (Van Eylen)']]\n",
    "            \n",
    "Best_teff_sources = Find_least_error(All_stars_data, Teff_check, Teff_headers, Teff_error_headers)\n",
    "Best_rad_sources = Find_least_error(All_stars_data, Rad_check, Rad_headers, Rad_error_headers)\n",
    "\n",
    "All_info = [Best_teff_sources, Best_rad_sources]\n",
    "Filtered_headers = Ensure_all(All_info)"
   ]
  },
  {
   "cell_type": "code",
   "execution_count": null,
   "id": "722faad6",
   "metadata": {},
   "outputs": [],
   "source": [
    "Array = Get_filtered_arrays(All_stars_data, Filtered_headers)\n",
    "Teff = Array[:,0]\n",
    "Rad = Array[:,1]\n",
    "Luminosity = Rad**2*(Teff/5772)**4\n",
    "\n",
    "plt.figure()\n",
    "plt.plot(Teff, Luminosity, 'r.', markersize=1)\n",
    "plt.plot(5772, 1, 'g.', label='Sol')\n",
    "plt.ylabel('Luminosity (Solar Luminosities)')\n",
    "plt.xlabel('Effective Temperature (K)')\n",
    "plt.xlim(2000, 7500)\n",
    "plt.ylim(0.00001, 100000)\n",
    "plt.yscale('log')\n",
    "plt.gca().invert_xaxis()\n",
    "plt.legend()\n",
    "plt.show()\n",
    "\n",
    "sns.set_theme(style=\"ticks\")\n",
    "\n",
    "sns.jointplot(x=Teff, y=Luminosity, xlim=(7000, 3000), ylim=(-1, 7.5), kind=\"hex\", color=\"#4CB391\")"
   ]
  },
  {
   "cell_type": "code",
   "execution_count": null,
   "id": "338b9447",
   "metadata": {},
   "outputs": [],
   "source": [
    "PSR_headers = ['PSR (VanHo)', 'PSR (Fulton)', 'PSR (Van Eylen)']\n",
    "PSR_check = Data_check(All_planets_data, PSR_headers)\n",
    "\n",
    "print(All_planets_data['Host Gaia ID'])\n",
    "Planet_data = []\n",
    "for P_index, IDp in enumerate(All_planets_data['Host Gaia ID']):\n",
    "    for S_index, IDs in enumerate(All_stars_data['designation']):\n",
    "        print([IDp, IDs])\n",
    "        if IDp == IDs:\n",
    "            P_radius = All_planets_data['PSR (VanHo)'][P_index]*All_stars_data['Radius (Gaia)'][S_index]\n",
    "            P_period = All_planets_data['P (VanHo)'][P_index]\n",
    "            Planet_data.append([P_radius, P_period])\n",
    "            \n",
    "print(Planet_data)"
   ]
  }
 ],
 "metadata": {
  "kernelspec": {
   "display_name": "Python 3 (ipykernel)",
   "language": "python",
   "name": "python3"
  },
  "language_info": {
   "codemirror_mode": {
    "name": "ipython",
    "version": 3
   },
   "file_extension": ".py",
   "mimetype": "text/x-python",
   "name": "python",
   "nbconvert_exporter": "python",
   "pygments_lexer": "ipython3",
   "version": "3.11.5"
  }
 },
 "nbformat": 4,
 "nbformat_minor": 5
}
