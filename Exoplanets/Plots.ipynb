{
 "cells": [
  {
   "cell_type": "code",
   "execution_count": 1,
   "id": "80f2fe5b",
   "metadata": {},
   "outputs": [],
   "source": [
    "import numpy as np\n",
    "import matplotlib.pyplot as plt\n",
    "import pandas as pd"
   ]
  },
  {
   "cell_type": "code",
   "execution_count": 5,
   "id": "aa1c3967",
   "metadata": {},
   "outputs": [],
   "source": [
    "Main_directory = 'C:/Users/Iwan/Documents/GitHub/Iwan-and-George-Year-4-Project/Exoplanets'\n",
    "All_stars_directory = f'{Main_directory}/All Stars Data.csv'\n",
    "\n",
    "All_stars_data = pd.read_csv(All_stars_directory)\n",
    "\n",
    "def Data_check(Data, headers=False):\n",
    "    headers = Data.columns if type(headers) is bool else headers \n",
    "    bool_array = [pd.notna(Data[col_name]) for col_name in headers]\n",
    "    check = np.flipud(np.rot90(bool_array))\n",
    "    return check\n",
    "\n",
    "def Find_least_error(Data, Checked_data, headers, error_headers, pm_seperation=True):\n",
    "    least_error_array = []\n",
    "    for row, boolean in enumerate(Checked_data):\n",
    "        previous_error = np.inf\n",
    "        for dataset, error_header in enumerate(error_headers):\n",
    "            if boolean[dataset]:\n",
    "                if pm_seperation:\n",
    "                    current_error = Data[error_header[0]][row] + Data[error_header[1]][row]\n",
    "                else:\n",
    "                    current_error = 2*Data[error_header][row]\n",
    "                if current_error < previous_error:\n",
    "                    previous_error = current_error\n",
    "                    lowest_error = headers[dataset]\n",
    "        least_error_array.append(lowest_error)\n",
    "    return np.array(least_error_array)"
   ]
  },
  {
   "cell_type": "code",
   "execution_count": 6,
   "id": "45994105",
   "metadata": {},
   "outputs": [],
   "source": [
    "Teff_headers = ['Teff (Gaia)', 'Teff (Exo)', 'Teff (Fulton)', 'Teff (Van Eylen)']\n",
    "Checked_data = Data_check(All_stars_data, Teff_headers)\n",
    "\n",
    "Teff_error_headers = [['Teff pe (Gaia)', 'Teff me (Gaia)'], \n",
    "                      ['Teff pe (Exo)', 'Teff me (Exo)'], \n",
    "                      ['Teff pe (Fulton)', 'Teff me (Fulton)'],\n",
    "                      ['Teff pe (Van Eylen)', 'Teff me (Van Eylen)']]\n",
    "            \n",
    "Best_teff_sources = Find_least_error(All_stars_data, Checked_data, Teff_headers, Teff_error_headers)"
   ]
  }
 ],
 "metadata": {
  "kernelspec": {
   "display_name": "Python 3 (ipykernel)",
   "language": "python",
   "name": "python3"
  },
  "language_info": {
   "codemirror_mode": {
    "name": "ipython",
    "version": 3
   },
   "file_extension": ".py",
   "mimetype": "text/x-python",
   "name": "python",
   "nbconvert_exporter": "python",
   "pygments_lexer": "ipython3",
   "version": "3.11.5"
  }
 },
 "nbformat": 4,
 "nbformat_minor": 5
}
