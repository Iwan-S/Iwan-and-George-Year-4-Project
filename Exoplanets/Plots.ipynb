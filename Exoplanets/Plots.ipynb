{
 "cells": [
  {
   "cell_type": "code",
   "execution_count": 2,
   "id": "d70381de",
   "metadata": {},
   "outputs": [],
   "source": [
    "import numpy as np\n",
    "import matplotlib.pyplot as plt\n",
    "import pandas as pd"
   ]
  },
  {
   "cell_type": "code",
   "execution_count": 99,
   "id": "e3efc5c3",
   "metadata": {},
   "outputs": [
    {
     "name": "stdout",
     "output_type": "stream",
     "text": [
      "[[ True  True False False]\n",
      " [False  True False False]\n",
      " [ True  True False False]\n",
      " ...\n",
      " [ True  True False False]\n",
      " [ True  True False False]\n",
      " [False False  True False]]\n",
      "0      3576.0\n",
      "1      4227.0\n",
      "2      5446.0\n",
      "3      6509.0\n",
      "4      6096.0\n",
      "        ...  \n",
      "620    5859.0\n",
      "621    6350.0\n",
      "622    5430.0\n",
      "623    6397.0\n",
      "624       NaN\n",
      "Name: Teff (Exo), Length: 625, dtype: float64\n"
     ]
    }
   ],
   "source": [
    "Main_directory = 'C:/Users/Iwan/Documents/GitHub/Iwan-and-George-Year-4-Project/Exoplanets'\n",
    "All_stars_directory = f'{Main_directory}/All Stars Data.csv'\n",
    "\n",
    "All_stars_data = pd.read_csv(All_stars_directory)\n",
    "\n",
    "def Data_check(Data, headers=False):\n",
    "    headers = Data.columns if type(headers) is bool else headers \n",
    "    bool_array = [pd.notna(Data[col_name]) for col_name in headers]\n",
    "    return np.flipud(np.rot90(bool_array))\n",
    "\n",
    "headers = ['Teff (Gaia)', 'Teff (Exo)', 'Teff (Fulton)', 'Teff (Van Eylen)']\n",
    "\n",
    "Teff_bool_array = Data_check(All_stars_data, headers)\n"
   ]
  }
 ],
 "metadata": {
  "kernelspec": {
   "display_name": "Python 3 (ipykernel)",
   "language": "python",
   "name": "python3"
  },
  "language_info": {
   "codemirror_mode": {
    "name": "ipython",
    "version": 3
   },
   "file_extension": ".py",
   "mimetype": "text/x-python",
   "name": "python",
   "nbconvert_exporter": "python",
   "pygments_lexer": "ipython3",
   "version": "3.11.5"
  }
 },
 "nbformat": 4,
 "nbformat_minor": 5
}
