{
 "cells": [
  {
   "cell_type": "code",
   "execution_count": 1,
   "id": "80f2fe5b",
   "metadata": {},
   "outputs": [],
   "source": [
    "import numpy as np\n",
    "import matplotlib.pyplot as plt\n",
    "import pandas as pd"
   ]
  },
  {
   "cell_type": "code",
   "execution_count": 27,
   "id": "aa1c3967",
   "metadata": {},
   "outputs": [],
   "source": [
    "Main_directory = 'C:/Users/Iwan/Documents/GitHub/Iwan-and-George-Year-4-Project/Exoplanets'\n",
    "All_stars_directory = f'{Main_directory}/All Stars Data.csv'\n",
    "\n",
    "All_stars_data = pd.read_csv(All_stars_directory)\n",
    "\n",
    "def Data_check(Data, headers=False):\n",
    "    headers = Data.columns if type(headers) is bool else headers \n",
    "    bool_array = [pd.notna(Data[col_name]) for col_name in headers]\n",
    "    check = np.flipud(np.rot90(bool_array))\n",
    "    return check\n",
    "\n",
    "def Find_least_error(Data, Checked_data, headers, error_headers, pm_seperation=True):\n",
    "    least_error_array = []\n",
    "    for row, boolean in enumerate(Checked_data):\n",
    "        previous_error = np.inf\n",
    "        for dataset, error_header in enumerate(error_headers):\n",
    "            if sum(boolean) == 0:\n",
    "                lowest_error = False\n",
    "                break\n",
    "            if boolean[dataset]:\n",
    "                if pm_seperation:\n",
    "                    current_error = Data[error_header[0]][row] + Data[error_header[1]][row]\n",
    "                else:\n",
    "                    current_error = 2*Data[error_header][row]\n",
    "                if current_error < previous_error:\n",
    "                    previous_error = current_error\n",
    "                    lowest_error = headers[dataset]\n",
    "        least_error_array.append(lowest_error)\n",
    "    return least_error_array"
   ]
  },
  {
   "cell_type": "code",
   "execution_count": 35,
   "id": "45994105",
   "metadata": {},
   "outputs": [
    {
     "name": "stdout",
     "output_type": "stream",
     "text": [
      "625\n",
      "625\n"
     ]
    }
   ],
   "source": [
    "Teff_headers = ['Teff (Gaia)', 'Teff (Exo)', 'Teff (Fulton)', 'Teff (Van Eylen)']\n",
    "Rad_headers = ['Radius (Fulton)', 'Radius (Van Eylen)']\n",
    "\n",
    "Teff_check = Data_check(All_stars_data, Teff_headers)\n",
    "Rad_check = Data_check(All_stars_data, Rad_headers)\n",
    "\n",
    "Teff_error_headers = [['Teff pe (Gaia)', 'Teff me (Gaia)'], \n",
    "                      ['Teff pe (Exo)', 'Teff me (Exo)'], \n",
    "                      ['Teff pe (Fulton)', 'Teff me (Fulton)'],\n",
    "                      ['Teff pe (Van Eylen)', 'Teff me (Van Eylen)']]\n",
    "\n",
    "Rad_error_headers = [['Rad pe (Fulton)', 'Rad me (Fulton)'],\n",
    "                     ['Rad pe (Van Eylen)', 'Rad me (Van Eylen)']]\n",
    "            \n",
    "Best_teff_sources = Find_least_error(All_stars_data, Teff_check, Teff_headers, Teff_error_headers)\n",
    "Best_rad_sources = Find_least_error(All_stars_data, Rad_check, Rad_headers, Rad_error_headers)"
   ]
  },
  {
   "cell_type": "code",
   "execution_count": 34,
   "id": "6c1cb298",
   "metadata": {},
   "outputs": [],
   "source": [
    "def Ensure_all(Best_sources):\n",
    "    total_info = []\n",
    "    num_stars = len(Best_sources[0])\n",
    "    for star_index in range(num_stars):\n",
    "        object_info = [star_index]\n",
    "        eliminate = False\n",
    "        for sources in Best_sources:\n",
    "            eliminate = type(sources[star_index]) is bool\n",
    "            if eliminate:\n",
    "                break\n",
    "            object_info.append(sources[star_index])\n",
    "        if eliminate:\n",
    "            continue\n",
    "        total_info.append(object_info)\n",
    "            \n",
    "        \n",
    "        \n",
    "                \n",
    "            \n",
    "\n",
    "info_matrix = []\n",
    "for star_index in range(len(All_stars_data)):\n",
    "    source1 = Best_teff_sources[star_index]\n",
    "    source2 = Best_rad_sources[star_index]\n",
    "    check1 = type(source1) is bool\n",
    "    check2 = type(source2) is bool\n",
    "    if check1 or check2:\n",
    "        continue\n",
    "    info_matrix.append([star_index, source1, source2])\n",
    "info_matrix = np.array(info_matrix)\n",
    "\n",
    "    \n",
    "    \n"
   ]
  }
 ],
 "metadata": {
  "kernelspec": {
   "display_name": "Python 3 (ipykernel)",
   "language": "python",
   "name": "python3"
  },
  "language_info": {
   "codemirror_mode": {
    "name": "ipython",
    "version": 3
   },
   "file_extension": ".py",
   "mimetype": "text/x-python",
   "name": "python",
   "nbconvert_exporter": "python",
   "pygments_lexer": "ipython3",
   "version": "3.11.5"
  }
 },
 "nbformat": 4,
 "nbformat_minor": 5
}
