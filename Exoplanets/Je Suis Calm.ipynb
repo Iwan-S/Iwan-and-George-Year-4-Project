{
 "cells": [
  {
   "cell_type": "markdown",
   "id": "41582f4e",
   "metadata": {},
   "source": [
    "# Selecting stars to be put through Ken and main grids\n",
    "****"
   ]
  },
  {
   "cell_type": "code",
   "execution_count": 1,
   "id": "52fee3e8",
   "metadata": {},
   "outputs": [],
   "source": [
    "import pandas as pd"
   ]
  },
  {
   "cell_type": "code",
   "execution_count": 2,
   "id": "1c2d4c36",
   "metadata": {},
   "outputs": [],
   "source": [
    "Directory = 'C:/Users/georg/Documents/GitHub/Iwan-and-George-Year-4-Project/Exoplanets/BASTA'\n",
    "def ScreamExtractor(File, Sep):\n",
    "    FILENAME = pd.read_csv(f'{Directory}/{File}', sep=Sep)\n",
    "    return FILENAME"
   ]
  },
  {
   "cell_type": "code",
   "execution_count": 4,
   "id": "601c4454",
   "metadata": {},
   "outputs": [],
   "source": [
    "Output = ScreamExtractor('Output/Gaia/GaiaResults.ascii', ' ')\n",
    "Input = ScreamExtractor('Input/Gaia.txt', '\\t')"
   ]
  },
  {
   "cell_type": "code",
   "execution_count": 5,
   "id": "26b36963",
   "metadata": {},
   "outputs": [],
   "source": [
    "Ken = []\n",
    "BaSTI = []\n",
    "for n in range(len(Output)):\n",
    "    if Output['massfin'][n] >= 1.15:\n",
    "        Ken.append(Output['starid'][n])\n",
    "    elif str(Output['massfin'][n]) == 'nan':\n",
    "        BaSTI.append(Output['starid'][n])"
   ]
  },
  {
   "cell_type": "code",
   "execution_count": 21,
   "id": "9535fa3b",
   "metadata": {},
   "outputs": [],
   "source": [
    "InputBaSTI = pd.DataFrame()"
   ]
  },
  {
   "cell_type": "code",
   "execution_count": 24,
   "id": "9cf626cf",
   "metadata": {},
   "outputs": [],
   "source": [
    "for l in range(len(BaSTI)):\n",
    "    Line = Input.loc[Input['ID'] == BaSTI[l]]\n",
    "    InputBaSTI = pd.concat([InputBaSTI, Line], ignore_index=True)"
   ]
  },
  {
   "cell_type": "code",
   "execution_count": 29,
   "id": "2498fee2",
   "metadata": {},
   "outputs": [],
   "source": [
    "TempFile = open(f'{Directory}/Input/GaiaBaSTI.txt', 'w')\n",
    "TempFile.write(InputBaSTI.to_string())\n",
    "TempFile.close()"
   ]
  },
  {
   "cell_type": "markdown",
   "id": "bf7d7853",
   "metadata": {},
   "source": [
    "****"
   ]
  }
 ],
 "metadata": {
  "kernelspec": {
   "display_name": "Python 3 (ipykernel)",
   "language": "python",
   "name": "python3"
  },
  "language_info": {
   "codemirror_mode": {
    "name": "ipython",
    "version": 3
   },
   "file_extension": ".py",
   "mimetype": "text/x-python",
   "name": "python",
   "nbconvert_exporter": "python",
   "pygments_lexer": "ipython3",
   "version": "3.8.13"
  }
 },
 "nbformat": 4,
 "nbformat_minor": 5
}
