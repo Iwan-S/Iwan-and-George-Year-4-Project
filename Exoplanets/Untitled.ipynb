{
 "cells": [
  {
   "cell_type": "code",
   "execution_count": 13,
   "id": "b3121689",
   "metadata": {},
   "outputs": [],
   "source": [
    "import pandas as pd"
   ]
  },
  {
   "cell_type": "code",
   "execution_count": 2,
   "id": "df9e2539",
   "metadata": {},
   "outputs": [],
   "source": [
    "%matplotlib notebook"
   ]
  },
  {
   "cell_type": "code",
   "execution_count": 25,
   "id": "8a386b6c",
   "metadata": {},
   "outputs": [],
   "source": [
    "MainDirectory = 'C:/Users/georg/Documents/GitHub/Iwan-and-George-Year-4-Project/Exoplanets'\n",
    "File = pd.read_table(f'{MainDirectory}/Results/KAGESResults.ascii', delimiter=' ')"
   ]
  },
  {
   "cell_type": "code",
   "execution_count": 27,
   "id": "1b2af6f5",
   "metadata": {},
   "outputs": [
    {
     "data": {
      "text/plain": [
       "0     2106674071344722688\n",
       "1     2052747119115620352\n",
       "2     2100392428275714688\n",
       "3     2132155017099178624\n",
       "4     2129495057954829952\n",
       "5     2129550445852902656\n",
       "6     2126918008858627712\n",
       "7     2105620159389754624\n",
       "8     2102119176929154304\n",
       "9     2101175933393051008\n",
       "10    2106705269988803072\n",
       "11    2101243789577188736\n",
       "12    2101733244046205568\n",
       "13    2099656472742686848\n",
       "14    2132152916856093952\n",
       "15    2131494313689868416\n",
       "16    2102224661326132864\n",
       "17    2099606483621385216\n",
       "18    2126237131982289280\n",
       "19    2080386917291928832\n",
       "Name: starid, dtype: int64"
      ]
     },
     "execution_count": 27,
     "metadata": {},
     "output_type": "execute_result"
    }
   ],
   "source": [
    "File['starid']"
   ]
  }
 ],
 "metadata": {
  "kernelspec": {
   "display_name": "Python 3 (ipykernel)",
   "language": "python",
   "name": "python3"
  },
  "language_info": {
   "codemirror_mode": {
    "name": "ipython",
    "version": 3
   },
   "file_extension": ".py",
   "mimetype": "text/x-python",
   "name": "python",
   "nbconvert_exporter": "python",
   "pygments_lexer": "ipython3",
   "version": "3.8.13"
  }
 },
 "nbformat": 4,
 "nbformat_minor": 5
}
