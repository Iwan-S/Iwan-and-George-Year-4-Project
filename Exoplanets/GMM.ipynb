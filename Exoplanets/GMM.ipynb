{
 "cells": [
  {
   "cell_type": "markdown",
   "id": "d0a21716",
   "metadata": {},
   "source": [
    "# 1D GMM"
   ]
  },
  {
   "cell_type": "code",
   "execution_count": 5,
   "id": "c0414be0",
   "metadata": {},
   "outputs": [],
   "source": [
    "import numpy as np\n",
    "import matplotlib.pyplot as plt\n",
    "from scipy.stats import norm\n",
    "import corner as corner"
   ]
  },
  {
   "cell_type": "markdown",
   "id": "f1a9d0ac",
   "metadata": {},
   "source": [
    "### Data simulation"
   ]
  },
  {
   "cell_type": "code",
   "execution_count": 17,
   "id": "f8c295a9",
   "metadata": {},
   "outputs": [],
   "source": [
    "loc, scale = 4, 2\n",
    "x = norm(loc=loc, scale=scale)"
   ]
  },
  {
   "cell_type": "code",
   "execution_count": 23,
   "id": "53e7b358",
   "metadata": {},
   "outputs": [
    {
     "name": "stdout",
     "output_type": "stream",
     "text": [
      "4\n"
     ]
    }
   ],
   "source": [
    "def model(x, p):\n",
    "    #Random bullshittery\n",
    "    return p\n",
    "\n",
    "def log_likelihood(x, p):\n",
    "    p = model(x, p)\n",
    "    loc, scale = p\n",
    "    \n",
    "\n",
    "def unit_transform(u, centre, span):\n",
    "    return 2*span*u + centre-span\n",
    "\n",
    "def prior_transform(u):\n",
    "    u[0] = unit_transform(u[0], 4, 2)\n",
    "    u[1] = unit_transform(u[1], 2, 2)\n",
    "    return u"
   ]
  }
 ],
 "metadata": {
  "kernelspec": {
   "display_name": "Python 3 (ipykernel)",
   "language": "python",
   "name": "python3"
  },
  "language_info": {
   "codemirror_mode": {
    "name": "ipython",
    "version": 3
   },
   "file_extension": ".py",
   "mimetype": "text/x-python",
   "name": "python",
   "nbconvert_exporter": "python",
   "pygments_lexer": "ipython3",
   "version": "3.11.5"
  }
 },
 "nbformat": 4,
 "nbformat_minor": 5
}
