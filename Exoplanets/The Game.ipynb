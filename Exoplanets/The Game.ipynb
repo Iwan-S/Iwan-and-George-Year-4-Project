{
 "cells": [
  {
   "cell_type": "markdown",
   "id": "9ea39c68",
   "metadata": {},
   "source": [
    "# Calculating the Radius from transit depth\n",
    "\n",
    "You Belong With Me\n",
    "****"
   ]
  },
  {
   "cell_type": "markdown",
   "id": "940b52b9",
   "metadata": {},
   "source": [
    "Importing Modules"
   ]
  },
  {
   "cell_type": "code",
   "execution_count": 1,
   "id": "ad570ece",
   "metadata": {},
   "outputs": [],
   "source": [
    "import astropy.constants as const\n",
    "import matplotlib.pyplot as plt\n",
    "import numpy as np\n",
    "import pandas as pd\n",
    "import scipy.stats as stats"
   ]
  },
  {
   "cell_type": "code",
   "execution_count": 2,
   "id": "5f1494e7",
   "metadata": {},
   "outputs": [],
   "source": [
    "%matplotlib notebook"
   ]
  },
  {
   "cell_type": "code",
   "execution_count": 3,
   "id": "188983cd",
   "metadata": {},
   "outputs": [],
   "source": [
    "def ScreamExtractor(File):\n",
    "    FILENAME = pd.read_csv(f'{File}.csv', sep=',', comment='#')\n",
    "    return FILENAME"
   ]
  },
  {
   "cell_type": "code",
   "execution_count": 21,
   "id": "1897a0dc",
   "metadata": {},
   "outputs": [],
   "source": [
    "Directory = 'C:/Users/georg/Documents/GitHub/Iwan-and-George-Year-4-Project/Exoplanets/Sorted Data'\n",
    "PlanetFile = 'Planets/469 Exoplanets'\n",
    "StarFile = 'Stars/Mega All Stars'\n",
    "PlanetData = ScreamExtractor(f'{Directory}/{PlanetFile}')\n",
    "StarData = ScreamExtractor(f'{Directory}/{StarFile}')"
   ]
  },
  {
   "cell_type": "code",
   "execution_count": 27,
   "id": "0a3538e0",
   "metadata": {},
   "outputs": [],
   "source": [
    "Source = StarData['Gaia DR3 IDs']\n",
    "SourceID = []\n",
    "for t in Source:\n",
    "    SourceID.append(f'Gaia DR2 {t}')"
   ]
  },
  {
   "cell_type": "code",
   "execution_count": 37,
   "id": "4221e5bc",
   "metadata": {},
   "outputs": [
    {
     "ename": "ValueError",
     "evalue": "The truth value of a Series is ambiguous. Use a.empty, a.bool(), a.item(), a.any() or a.all().",
     "output_type": "error",
     "traceback": [
      "\u001b[1;31m---------------------------------------------------------------------------\u001b[0m",
      "\u001b[1;31mValueError\u001b[0m                                Traceback (most recent call last)",
      "\u001b[1;32m~\\AppData\\Local\\Temp\\ipykernel_15716\\1875450772.py\u001b[0m in \u001b[0;36m<module>\u001b[1;34m\u001b[0m\n\u001b[0;32m      5\u001b[0m     \u001b[0mPlanetRadius\u001b[0m \u001b[1;33m=\u001b[0m \u001b[1;33m[\u001b[0m\u001b[1;33m]\u001b[0m\u001b[1;33m\u001b[0m\u001b[1;33m\u001b[0m\u001b[0m\n\u001b[0;32m      6\u001b[0m     \u001b[0mPlanetID\u001b[0m \u001b[1;33m=\u001b[0m \u001b[0mPlanetData\u001b[0m\u001b[1;33m[\u001b[0m\u001b[1;34m'gaia_id'\u001b[0m\u001b[1;33m]\u001b[0m\u001b[1;33m\u001b[0m\u001b[1;33m\u001b[0m\u001b[0m\n\u001b[1;32m----> 7\u001b[1;33m     \u001b[1;32mif\u001b[0m \u001b[0mPlanetID\u001b[0m \u001b[1;32min\u001b[0m \u001b[0mSourceID\u001b[0m\u001b[1;33m:\u001b[0m\u001b[1;33m\u001b[0m\u001b[1;33m\u001b[0m\u001b[0m\n\u001b[0m\u001b[0;32m      8\u001b[0m         \u001b[0mPlanetRadius\u001b[0m\u001b[1;33m.\u001b[0m\u001b[0mappend\u001b[0m\u001b[1;33m(\u001b[0m\u001b[0mTransitDepth\u001b[0m\u001b[1;33m[\u001b[0m\u001b[0mPlanetID\u001b[0m\u001b[1;33m[\u001b[0m\u001b[0mn\u001b[0m\u001b[1;33m]\u001b[0m\u001b[1;33m]\u001b[0m\u001b[1;33m/\u001b[0m\u001b[1;36m100\u001b[0m\u001b[1;33m*\u001b[0m\u001b[0mStellarRadius\u001b[0m\u001b[1;33m[\u001b[0m\u001b[0mSourceID\u001b[0m\u001b[1;33m[\u001b[0m\u001b[0mn\u001b[0m\u001b[1;33m]\u001b[0m\u001b[1;33m]\u001b[0m\u001b[1;33m)\u001b[0m\u001b[1;33m\u001b[0m\u001b[1;33m\u001b[0m\u001b[0m\n",
      "\u001b[1;32m~\\anaconda3\\envs\\Observatory Laboratory\\lib\\site-packages\\pandas\\core\\generic.py\u001b[0m in \u001b[0;36m__nonzero__\u001b[1;34m(self)\u001b[0m\n\u001b[0;32m   1525\u001b[0m     \u001b[1;33m@\u001b[0m\u001b[0mfinal\u001b[0m\u001b[1;33m\u001b[0m\u001b[1;33m\u001b[0m\u001b[0m\n\u001b[0;32m   1526\u001b[0m     \u001b[1;32mdef\u001b[0m \u001b[0m__nonzero__\u001b[0m\u001b[1;33m(\u001b[0m\u001b[0mself\u001b[0m\u001b[1;33m)\u001b[0m \u001b[1;33m->\u001b[0m \u001b[0mNoReturn\u001b[0m\u001b[1;33m:\u001b[0m\u001b[1;33m\u001b[0m\u001b[1;33m\u001b[0m\u001b[0m\n\u001b[1;32m-> 1527\u001b[1;33m         raise ValueError(\n\u001b[0m\u001b[0;32m   1528\u001b[0m             \u001b[1;34mf\"The truth value of a {type(self).__name__} is ambiguous. \"\u001b[0m\u001b[1;33m\u001b[0m\u001b[1;33m\u001b[0m\u001b[0m\n\u001b[0;32m   1529\u001b[0m             \u001b[1;34m\"Use a.empty, a.bool(), a.item(), a.any() or a.all().\"\u001b[0m\u001b[1;33m\u001b[0m\u001b[1;33m\u001b[0m\u001b[0m\n",
      "\u001b[1;31mValueError\u001b[0m: The truth value of a Series is ambiguous. Use a.empty, a.bool(), a.item(), a.any() or a.all()."
     ]
    }
   ],
   "source": [
    "OrbitalPeriod = PlanetData['pl_orbper'] #Days\n",
    "TransitDepth = PlanetData['pl_trandep'] #%\n",
    "StellarRadius = StarData['Radius (Gaia)'] #Solar Radius\n",
    "for n in range(len(TransitDepth)):\n",
    "    PlanetRadius = []\n",
    "    PlanetID = PlanetData['gaia_id']\n",
    "    if PlanetID in SourceID:\n",
    "        "
   ]
  },
  {
   "cell_type": "code",
   "execution_count": null,
   "id": "b7cf9b4e",
   "metadata": {},
   "outputs": [],
   "source": [
    "plt.figure()\n",
    "plt.plot(OrbitalPeriod, PlanetRadius, '.')\n",
    "plt.xlabel('Orbital Period (days)')\n",
    "plt.ylabel(r'$R_p/R_{\\oplus}$')\n",
    "'''plt.xlim(0, 30)\n",
    "plt.ylim(0, 20)'''\n",
    "plt.show()"
   ]
  },
  {
   "cell_type": "code",
   "execution_count": null,
   "id": "1418cfa9",
   "metadata": {},
   "outputs": [],
   "source": [
    "def histedges_equalN(x, nbin):\n",
    "    npt = len(x)\n",
    "    return np.interp(np.linspace(0, npt, nbin + 1),\n",
    "                     np.arange(npt),\n",
    "                     np.sort(x))\n",
    "\n",
    "def DensityProfile(Dimension):\n",
    "    List = []\n",
    "    for s in range(len(Dimension)):\n",
    "        if str(Dimension[s]) != 'nan':\n",
    "            List.append(float(Dimension[s]))\n",
    "\n",
    "    Bins = round(np.sqrt(len(List))) # square root of n.\n",
    "\n",
    "    nums, bin_edges, binnumber = stats.binned_statistic(List, List, 'count', \n",
    "                                                        bins = histedges_equalN(List, Bins))\n",
    "\n",
    "    bin_width = (bin_edges[1:] - bin_edges[:-1])\n",
    "\n",
    "    x = bin_width/2 + bin_edges[:-1]\n",
    "    Area = np.pi*(bin_edges[1:]**2 - bin_edges[:-1]**2)\n",
    "    y = nums/Area\n",
    "    yerr = np.sqrt(nums)\n",
    "    return x, y\n",
    "\n",
    "x, y = DensityProfile(PlanetRadius) # PlanetRadius or OrbitalPeriod\n",
    "\n",
    "# Density Profile Graph.\n",
    "fig5, ax = plt.subplots()\n",
    "plt.plot(x, y)\n",
    "plt.xlabel(r'$R_p/R_{\\oplus}$', fontsize = 12)\n",
    "plt.ylabel(r'$N_{\\rm stars}\\,{\\rm Deg}^{-2}$', fontsize = 12)\n",
    "plt.tick_params(axis='y', which='minor')\n",
    "plt.tick_params(axis='x', which='minor')"
   ]
  },
  {
   "cell_type": "markdown",
   "id": "d6a8626e",
   "metadata": {},
   "source": [
    "You tatty git"
   ]
  }
 ],
 "metadata": {
  "kernelspec": {
   "display_name": "Python 3 (ipykernel)",
   "language": "python",
   "name": "python3"
  },
  "language_info": {
   "codemirror_mode": {
    "name": "ipython",
    "version": 3
   },
   "file_extension": ".py",
   "mimetype": "text/x-python",
   "name": "python",
   "nbconvert_exporter": "python",
   "pygments_lexer": "ipython3",
   "version": "3.8.13"
  }
 },
 "nbformat": 4,
 "nbformat_minor": 5
}
