{
 "cells": [
  {
   "cell_type": "markdown",
   "id": "9ea39c68",
   "metadata": {},
   "source": [
    "# Calculating the Radius from transit depth\n",
    "\n",
    "You Belong With Me\n",
    "****"
   ]
  },
  {
   "cell_type": "markdown",
   "id": "940b52b9",
   "metadata": {},
   "source": [
    "Importing Modules"
   ]
  },
  {
   "cell_type": "code",
   "execution_count": 1,
   "id": "ad570ece",
   "metadata": {},
   "outputs": [],
   "source": [
    "import astropy.constants as const\n",
    "import matplotlib.pyplot as plt\n",
    "import numpy as np\n",
    "import pandas as pd\n",
    "import scipy.stats as stats"
   ]
  },
  {
   "cell_type": "code",
   "execution_count": 2,
   "id": "5f1494e7",
   "metadata": {},
   "outputs": [],
   "source": [
    "%matplotlib notebook"
   ]
  },
  {
   "cell_type": "code",
   "execution_count": 3,
   "id": "188983cd",
   "metadata": {},
   "outputs": [],
   "source": [
    "def ScreamExtractor(File):\n",
    "    FILENAME = pd.read_csv(f'{File}.csv', sep=',', comment='#')\n",
    "    return FILENAME"
   ]
  },
  {
   "cell_type": "code",
   "execution_count": 4,
   "id": "1897a0dc",
   "metadata": {},
   "outputs": [],
   "source": [
    "Number = '469' # 99 or 471\n",
    "PlanetData = ScreamExtractor(f'{Number} Exoplanets')\n",
    "StarData = ScreamExtractor(f'{Number} Gaia Results')"
   ]
  },
  {
   "cell_type": "code",
   "execution_count": 5,
   "id": "0a3538e0",
   "metadata": {},
   "outputs": [],
   "source": [
    "Source = StarData['source_id']\n",
    "SourceID = []\n",
    "for t in Source:\n",
    "    SourceID.append(f'Gaia DR2 {t}')"
   ]
  },
  {
   "cell_type": "code",
   "execution_count": 6,
   "id": "cc54f4c3",
   "metadata": {},
   "outputs": [
    {
     "ename": "KeyError",
     "evalue": "'radius_val'",
     "output_type": "error",
     "traceback": [
      "\u001b[1;31m---------------------------------------------------------------------------\u001b[0m",
      "\u001b[1;31mKeyError\u001b[0m                                  Traceback (most recent call last)",
      "File \u001b[1;32m~\\anaconda3\\Lib\\site-packages\\pandas\\core\\indexes\\base.py:3653\u001b[0m, in \u001b[0;36mIndex.get_loc\u001b[1;34m(self, key)\u001b[0m\n\u001b[0;32m   3652\u001b[0m \u001b[38;5;28;01mtry\u001b[39;00m:\n\u001b[1;32m-> 3653\u001b[0m     \u001b[38;5;28;01mreturn\u001b[39;00m \u001b[38;5;28mself\u001b[39m\u001b[38;5;241m.\u001b[39m_engine\u001b[38;5;241m.\u001b[39mget_loc(casted_key)\n\u001b[0;32m   3654\u001b[0m \u001b[38;5;28;01mexcept\u001b[39;00m \u001b[38;5;167;01mKeyError\u001b[39;00m \u001b[38;5;28;01mas\u001b[39;00m err:\n",
      "File \u001b[1;32m~\\anaconda3\\Lib\\site-packages\\pandas\\_libs\\index.pyx:147\u001b[0m, in \u001b[0;36mpandas._libs.index.IndexEngine.get_loc\u001b[1;34m()\u001b[0m\n",
      "File \u001b[1;32m~\\anaconda3\\Lib\\site-packages\\pandas\\_libs\\index.pyx:176\u001b[0m, in \u001b[0;36mpandas._libs.index.IndexEngine.get_loc\u001b[1;34m()\u001b[0m\n",
      "File \u001b[1;32mpandas\\_libs\\hashtable_class_helper.pxi:7080\u001b[0m, in \u001b[0;36mpandas._libs.hashtable.PyObjectHashTable.get_item\u001b[1;34m()\u001b[0m\n",
      "File \u001b[1;32mpandas\\_libs\\hashtable_class_helper.pxi:7088\u001b[0m, in \u001b[0;36mpandas._libs.hashtable.PyObjectHashTable.get_item\u001b[1;34m()\u001b[0m\n",
      "\u001b[1;31mKeyError\u001b[0m: 'radius_val'",
      "\nThe above exception was the direct cause of the following exception:\n",
      "\u001b[1;31mKeyError\u001b[0m                                  Traceback (most recent call last)",
      "Cell \u001b[1;32mIn[6], line 3\u001b[0m\n\u001b[0;32m      1\u001b[0m OrbitalPeriod \u001b[38;5;241m=\u001b[39m PlanetData[\u001b[38;5;124m'\u001b[39m\u001b[38;5;124mpl_orbper\u001b[39m\u001b[38;5;124m'\u001b[39m] \u001b[38;5;66;03m#Days\u001b[39;00m\n\u001b[0;32m      2\u001b[0m TransitDepth \u001b[38;5;241m=\u001b[39m PlanetData[\u001b[38;5;124m'\u001b[39m\u001b[38;5;124mpl_trandep\u001b[39m\u001b[38;5;124m'\u001b[39m] \u001b[38;5;66;03m#%\u001b[39;00m\n\u001b[1;32m----> 3\u001b[0m StellarRadius \u001b[38;5;241m=\u001b[39m StarData[\u001b[38;5;124m'\u001b[39m\u001b[38;5;124mradius_val\u001b[39m\u001b[38;5;124m'\u001b[39m] \u001b[38;5;66;03m#Solar Radius\u001b[39;00m\n\u001b[0;32m      4\u001b[0m PlanetRadius \u001b[38;5;241m=\u001b[39m []\n\u001b[0;32m      5\u001b[0m \u001b[38;5;28;01mfor\u001b[39;00m n \u001b[38;5;129;01min\u001b[39;00m \u001b[38;5;28mrange\u001b[39m(\u001b[38;5;28mlen\u001b[39m(TransitDepth)):\n",
      "File \u001b[1;32m~\\anaconda3\\Lib\\site-packages\\pandas\\core\\frame.py:3761\u001b[0m, in \u001b[0;36mDataFrame.__getitem__\u001b[1;34m(self, key)\u001b[0m\n\u001b[0;32m   3759\u001b[0m \u001b[38;5;28;01mif\u001b[39;00m \u001b[38;5;28mself\u001b[39m\u001b[38;5;241m.\u001b[39mcolumns\u001b[38;5;241m.\u001b[39mnlevels \u001b[38;5;241m>\u001b[39m \u001b[38;5;241m1\u001b[39m:\n\u001b[0;32m   3760\u001b[0m     \u001b[38;5;28;01mreturn\u001b[39;00m \u001b[38;5;28mself\u001b[39m\u001b[38;5;241m.\u001b[39m_getitem_multilevel(key)\n\u001b[1;32m-> 3761\u001b[0m indexer \u001b[38;5;241m=\u001b[39m \u001b[38;5;28mself\u001b[39m\u001b[38;5;241m.\u001b[39mcolumns\u001b[38;5;241m.\u001b[39mget_loc(key)\n\u001b[0;32m   3762\u001b[0m \u001b[38;5;28;01mif\u001b[39;00m is_integer(indexer):\n\u001b[0;32m   3763\u001b[0m     indexer \u001b[38;5;241m=\u001b[39m [indexer]\n",
      "File \u001b[1;32m~\\anaconda3\\Lib\\site-packages\\pandas\\core\\indexes\\base.py:3655\u001b[0m, in \u001b[0;36mIndex.get_loc\u001b[1;34m(self, key)\u001b[0m\n\u001b[0;32m   3653\u001b[0m     \u001b[38;5;28;01mreturn\u001b[39;00m \u001b[38;5;28mself\u001b[39m\u001b[38;5;241m.\u001b[39m_engine\u001b[38;5;241m.\u001b[39mget_loc(casted_key)\n\u001b[0;32m   3654\u001b[0m \u001b[38;5;28;01mexcept\u001b[39;00m \u001b[38;5;167;01mKeyError\u001b[39;00m \u001b[38;5;28;01mas\u001b[39;00m err:\n\u001b[1;32m-> 3655\u001b[0m     \u001b[38;5;28;01mraise\u001b[39;00m \u001b[38;5;167;01mKeyError\u001b[39;00m(key) \u001b[38;5;28;01mfrom\u001b[39;00m \u001b[38;5;21;01merr\u001b[39;00m\n\u001b[0;32m   3656\u001b[0m \u001b[38;5;28;01mexcept\u001b[39;00m \u001b[38;5;167;01mTypeError\u001b[39;00m:\n\u001b[0;32m   3657\u001b[0m     \u001b[38;5;66;03m# If we have a listlike key, _check_indexing_error will raise\u001b[39;00m\n\u001b[0;32m   3658\u001b[0m     \u001b[38;5;66;03m#  InvalidIndexError. Otherwise we fall through and re-raise\u001b[39;00m\n\u001b[0;32m   3659\u001b[0m     \u001b[38;5;66;03m#  the TypeError.\u001b[39;00m\n\u001b[0;32m   3660\u001b[0m     \u001b[38;5;28mself\u001b[39m\u001b[38;5;241m.\u001b[39m_check_indexing_error(key)\n",
      "\u001b[1;31mKeyError\u001b[0m: 'radius_val'"
     ]
    }
   ],
   "source": [
    "OrbitalPeriod = PlanetData['pl_orbper'] #Days\n",
    "TransitDepth = PlanetData['pl_trandep'] #%\n",
    "StellarRadius = StarData['radius_val'] #Solar Radius\n",
    "PlanetRadius = []\n",
    "for n in range(len(TransitDepth)):\n",
    "    StarIndex = SourceID.index(PlanetData['gaia_id'][n])\n",
    "    PlanetRadius.append(np.sqrt(TransitDepth[n]/100)*StellarRadius[StarIndex]*const.R_sun/const.R_earth)"
   ]
  },
  {
   "cell_type": "code",
   "execution_count": null,
   "id": "5fd50922",
   "metadata": {},
   "outputs": [],
   "source": [
    "len(OrbitalPeriod)"
   ]
  },
  {
   "cell_type": "code",
   "execution_count": null,
   "id": "b7cf9b4e",
   "metadata": {},
   "outputs": [],
   "source": [
    "plt.figure()\n",
    "plt.plot(OrbitalPeriod, PlanetRadius, '.')\n",
    "plt.xlabel('Orbital Period (days)')\n",
    "plt.ylabel(r'$R_p/R_{\\oplus}$')\n",
    "ax.set_xscale('log')\n",
    "'''plt.xlim(0, 30)\n",
    "plt.ylim(0, 20)'''\n",
    "plt.show()"
   ]
  },
  {
   "cell_type": "code",
   "execution_count": null,
   "id": "1418cfa9",
   "metadata": {},
   "outputs": [],
   "source": [
    "def histedges_equalN(x, nbin):\n",
    "    npt = len(x)\n",
    "    return np.interp(np.linspace(0, npt, nbin + 1),\n",
    "                     np.arange(npt),\n",
    "                     np.sort(x))\n",
    "\n",
    "def DensityProfile(Dimension):\n",
    "    List = []\n",
    "    for s in range(len(Dimension)):\n",
    "        if str(Dimension[s]) != 'nan':\n",
    "            List.append(float(Dimension[s]))\n",
    "\n",
    "    Bins = round(np.sqrt(len(List))) # square root of n.\n",
    "\n",
    "    nums, bin_edges, binnumber = stats.binned_statistic(List, List, 'count', \n",
    "                                                        bins = histedges_equalN(List, Bins))\n",
    "\n",
    "    bin_width = (bin_edges[1:] - bin_edges[:-1])\n",
    "\n",
    "    x = bin_width/2 + bin_edges[:-1]\n",
    "    Area = np.pi*(bin_edges[1:]**2 - bin_edges[:-1]**2)\n",
    "    y = nums/Area\n",
    "    yerr = np.sqrt(nums)\n",
    "    return x, y\n",
    "\n",
    "x, y = DensityProfile(PlanetRadius) # PlanetRadius or OrbitalPeriod\n",
    "\n",
    "# Density Profile Graph.\n",
    "fig5, ax = plt.subplots()\n",
    "plt.plot(x, y)\n",
    "plt.xlabel(r'$R_p/R_{\\oplus}$', fontsize = 12)\n",
    "plt.ylabel(r'$N_{\\rm stars}\\,{\\rm Deg}^{-2}$', fontsize = 12)\n",
    "plt.tick_params(axis='y', which='minor')\n",
    "plt.tick_params(axis='x', which='minor')"
   ]
  },
  {
   "cell_type": "markdown",
   "id": "d6a8626e",
   "metadata": {},
   "source": [
    "You tatty git"
   ]
  }
 ],
 "metadata": {
  "kernelspec": {
   "display_name": "Python 3 (ipykernel)",
   "language": "python",
   "name": "python3"
  },
  "language_info": {
   "codemirror_mode": {
    "name": "ipython",
    "version": 3
   },
   "file_extension": ".py",
   "mimetype": "text/x-python",
   "name": "python",
   "nbconvert_exporter": "python",
   "pygments_lexer": "ipython3",
   "version": "3.11.5"
  }
 },
 "nbformat": 4,
 "nbformat_minor": 5
}
