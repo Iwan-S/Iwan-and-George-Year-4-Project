{
 "cells": [
  {
   "cell_type": "markdown",
   "id": "cc60cc11",
   "metadata": {},
   "source": [
    "# Creating list of stars to Kenify\n",
    "****"
   ]
  },
  {
   "cell_type": "code",
   "execution_count": 1,
   "id": "e7614ce4",
   "metadata": {},
   "outputs": [],
   "source": [
    "import pandas as pd"
   ]
  },
  {
   "cell_type": "code",
   "execution_count": 26,
   "id": "2e94d82c",
   "metadata": {},
   "outputs": [],
   "source": [
    "def ScreamExtractor(File):\n",
    "    FILENAME = pd.read_csv(f'{File}', sep='\\t')\n",
    "    return FILENAME"
   ]
  },
  {
   "cell_type": "code",
   "execution_count": 27,
   "id": "3723d6ee",
   "metadata": {},
   "outputs": [],
   "source": [
    "Directory = 'C:/Users/georg/Documents/GitHub/Iwan-and-George-Year-4-Project/Exoplanets'\n",
    "File = ScreamExtractor(f'{Directory}/Results/JustKenResults.ascii')"
   ]
  },
  {
   "cell_type": "code",
   "execution_count": 43,
   "id": "8fb0b946",
   "metadata": {},
   "outputs": [],
   "source": [
    "Mass = File['massfin'].astype(str)"
   ]
  },
  {
   "cell_type": "code",
   "execution_count": 61,
   "id": "da864170",
   "metadata": {},
   "outputs": [
    {
     "name": "stdout",
     "output_type": "stream",
     "text": [
      "[0, 12, 15, 31, 41, 86, 111, 122, 145, 150, 160, 183, 195, 199, 205, 215, 217, 218, 220, 228, 234, 281, 283, 298, 325, 326, 327, 328, 340]\n",
      "[2, 26, 140, 142, 241, 282, 285, 314, 317]\n"
     ]
    }
   ],
   "source": [
    "LowMass = []\n",
    "HighMass = []\n",
    "for m in range(len(Mass)):\n",
    "    if Mass[m] == 'nan':\n",
    "        LowMass.append(m)\n",
    "    elif float(Mass[m]) >= 1.15:\n",
    "        HighMass.append(m)\n",
    "print(LowMass)\n",
    "print(HighMass)"
   ]
  },
  {
   "cell_type": "code",
   "execution_count": 60,
   "id": "67cbfd20",
   "metadata": {},
   "outputs": [],
   "source": [
    "Ken = File.iloc[HighMass, 0]\n",
    "Big = File.iloc[LowMass, 0]"
   ]
  }
 ],
 "metadata": {
  "kernelspec": {
   "display_name": "Python 3 (ipykernel)",
   "language": "python",
   "name": "python3"
  },
  "language_info": {
   "codemirror_mode": {
    "name": "ipython",
    "version": 3
   },
   "file_extension": ".py",
   "mimetype": "text/x-python",
   "name": "python",
   "nbconvert_exporter": "python",
   "pygments_lexer": "ipython3",
   "version": "3.8.13"
  }
 },
 "nbformat": 4,
 "nbformat_minor": 5
}
