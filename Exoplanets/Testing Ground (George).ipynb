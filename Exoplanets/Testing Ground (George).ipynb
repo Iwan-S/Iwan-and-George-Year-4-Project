{
 "cells": [
  {
   "cell_type": "markdown",
   "id": "9ea39c68",
   "metadata": {},
   "source": [
    "# Calculating the Radius from transit depth\n",
    "\n",
    "You Belong With Me\n",
    "****"
   ]
  },
  {
   "cell_type": "markdown",
   "id": "940b52b9",
   "metadata": {},
   "source": [
    "Importing Modules"
   ]
  },
  {
   "cell_type": "code",
   "execution_count": 1,
   "id": "ad570ece",
   "metadata": {},
   "outputs": [],
   "source": [
    "import astropy.constants as const\n",
    "import Gridingtons as grid\n",
    "import matplotlib.pyplot as plt\n",
    "import numpy as np\n",
    "import pandas as pd\n",
    "import scipy.stats as stats\n",
    "import seaborn as sns\n",
    "from WhatisLife import Rotator"
   ]
  },
  {
   "cell_type": "code",
   "execution_count": 2,
   "id": "5f1494e7",
   "metadata": {},
   "outputs": [],
   "source": [
    "%matplotlib notebook\n",
    "π = np.pi\n",
    "Colour = plt.style.use('tableau-colorblind10')"
   ]
  },
  {
   "cell_type": "code",
   "execution_count": 3,
   "id": "188983cd",
   "metadata": {},
   "outputs": [],
   "source": [
    "def ScreamExtractor(File, Sep=','):\n",
    "    FILENAME = pd.read_csv(f'{File}', sep=Sep, comment='#')\n",
    "    return FILENAME"
   ]
  },
  {
   "cell_type": "code",
   "execution_count": 13,
   "id": "1897a0dc",
   "metadata": {},
   "outputs": [],
   "source": [
    "Directory = 'C:/Users/georg/Documents/GitHub/Iwan-and-George-Year-4-Project/Exoplanets'\n",
    "HoVanData = ScreamExtractor(f'{Directory}/Sorted Data/Planets/HoVan All Planets.csv')\n",
    "GaiaData = ScreamExtractor(f'{Directory}/Sorted Data/Stars/Gaia All Stars.csv')\n",
    "BASTAData = ScreamExtractor(f'{Directory}/BASTA/Output/Gaia/GaiaResults.ascii', ' ')\n",
    "ExoData = ScreamExtractor(f'{Directory}/Sorted Data/Planets/Exo All Planets.csv')"
   ]
  },
  {
   "cell_type": "code",
   "execution_count": 15,
   "id": "4221e5bc",
   "metadata": {},
   "outputs": [],
   "source": [
    "Object = GaiaData\n",
    "for f in range(len(Object)):\n",
    "    if str(Object['Radius'][f]) == 'nan':\n",
    "        GaiaData = GaiaData.drop(f)\n",
    "Object = HoVanData\n",
    "for f in range(len(Object)):\n",
    "    if str(Object['Host Gaia DR3 ID'][f]) == 'nan':\n",
    "        HoVanData = HoVanData.drop(f)\n",
    "Object = BASTAData\n",
    "for f in range(len(Object)):\n",
    "    if str(Object['radPhot'][f]) == 'nan':\n",
    "        BASTAData = BASTAData.drop(f)"
   ]
  },
  {
   "cell_type": "code",
   "execution_count": null,
   "id": "0a3538e0",
   "metadata": {},
   "outputs": [],
   "source": [
    "SourceID = StarData['Gaia DR3 ID'].astype(float)\n",
    "StellarRadius = StarData['Radius'] #Solar Radius\n",
    "Temperature = StarData['Teff']\n",
    "PlanetID = PlanetData['Host Gaia DR3 ID']\n",
    "OrbitalPeriod = PlanetData['P'] #Days\n",
    "Ratio = PlanetData['PSR'] #%"
   ]
  },
  {
   "cell_type": "code",
   "execution_count": null,
   "id": "ad21ea6c",
   "metadata": {},
   "outputs": [],
   "source": [
    "OrbitalPeriodList = []\n",
    "PlanetRadius = []\n",
    "OrbitalPeriodListBASTA = []\n",
    "PlanetRadiusBASTA = []\n",
    "for n in range(len(PlanetID)):\n",
    "    try:\n",
    "        Index = GridData.loc[GridData['Gaia DR3 ID'] == PlanetID[n]].index[0]\n",
    "        Radius = Ratio[n]*GridData['Radius'][Index]*const.R_sun/const.R_earth\n",
    "        if Radius < 5:\n",
    "            OrbitalPeriodList.append(OrbitalPeriod[n])\n",
    "            PlanetRadius.append(Radius)\n",
    "        \n",
    "        IndexBASTA = SourceID == PlanetID[n].index[0]\n",
    "        Radius = Ratio[n]*StellarRadius[IndexBASTA]*const.R_sun/const.R_earth\n",
    "        if Radius < 5:\n",
    "            OrbitalPeriodListBASTA.append(OrbitalPeriod[n])\n",
    "            PlanetRadiusBASTA.append(Radius)\n",
    "    except:\n",
    "        continue"
   ]
  },
  {
   "cell_type": "code",
   "execution_count": null,
   "id": "795abc34",
   "metadata": {},
   "outputs": [],
   "source": [
    "def Gradienter(XAxis, YAxis, m, X=10):\n",
    "    NewX = np.linspace(10, 10, len(XAxis))\n",
    "    NewY = 10**(m*(X-XAxis)+YAxis)\n",
    "    return NewX, NewY"
   ]
  },
  {
   "cell_type": "code",
   "execution_count": null,
   "id": "3f1067d2",
   "metadata": {},
   "outputs": [],
   "source": [
    "# m = -0.11+-0.02, c = 0.37+0.02-0.03\n",
    "\n",
    "OP = np.log10(np.array(OrbitalPeriodList))\n",
    "PR = np.log10(np.array(PlanetRadius))\n",
    "OPBASTA = np.log10(np.array(OrbitalPeriodListBASTA))\n",
    "PRBASTA = np.log10(np.array(PlanetRadiusBASTA))\n",
    "Gradient = np.linspace(-0.096, -0.096, 1)\n",
    "\n",
    "X, Y = Gradienter(OP, PR, Gradient[0])\n",
    "XBASTA, YBASTA = Gradienter(OPBASTA, PRBASTA, Gradient[0])\n",
    "\n",
    "x = np.linspace(min(OP), max(OP), 2)\n",
    "y = -0.096*x + 0.37\n",
    "\n",
    "Title = 'Radius Valley plot for Gaia Stars and Exo Planets'\n",
    "\n",
    "plt.figure()\n",
    "plt.plot(OP, 10**PR, '.', color=Colour, markersize=2, label='Gaia')\n",
    "plt.plot(OPBASTA, 10**PRBASTA, '.', color=Colour, markersize=2, label='BASTA (Gaia)')\n",
    "plt.plot(x, 10**y, color=Colour, label='Model (HoVan)')\n",
    "plt.xlabel('log(Orbital Period/Days)', fontsize=12)\n",
    "plt.ylabel('$R/R_{\\oplus}$', fontsize=12)\n",
    "plt.title(Title, fontsize=15)\n",
    "plt.legend()\n",
    "plt.show()\n",
    "#plt.savefig(f'{Directory}/Plots/Plots I\\'m definetly not using for my seminar/{Title}')\n",
    "\n",
    "Title = 'Density plot of the Radius Valley for Gaia and BASTA (Gaia)'\n",
    "plt.figure()\n",
    "KDE = sns.kdeplot(10**Y, bw_adjust=0.25, label='Gaia')\n",
    "KDEFulton = sns.kdeplot(10**YBASTA, bw_adjust=0.25, label='BASTA (Gaia)')\n",
    "plt.xlabel('$R/R_{\\oplus}$', fontsize=12)\n",
    "plt.ylabel('Density', fontsize=12)\n",
    "plt.xlim(1, 4)\n",
    "plt.title(Title, fontsize=15)\n",
    "plt.legend()\n",
    "plt.show()\n",
    "#plt.savefig(f'{Directory}/Plots/Plots I\\'m definetly not using for my seminar/{Title}')"
   ]
  },
  {
   "cell_type": "code",
   "execution_count": null,
   "id": "7dc9aaa8",
   "metadata": {},
   "outputs": [],
   "source": [
    "x = np.linspace(min(OrbitalPeriodList), max(OrbitalPeriodList), 2)\n",
    "m = -0.11\n",
    "c1 = 0.37\n",
    "y1 = 10**(m*np.log10(x) + c1)"
   ]
  },
  {
   "cell_type": "code",
   "execution_count": null,
   "id": "b7cf9b4e",
   "metadata": {},
   "outputs": [],
   "source": [
    "plt.figure()\n",
    "plt.plot(OrbitalPeriodList, PlanetRadius, '.', markersize=2)\n",
    "plt.plot(x, y1, label='Radius Valley (VanHo)')\n",
    "plt.xlabel('Orbital Period (days)', fontsize=12)\n",
    "plt.ylabel(r'$R_p/R_{\\oplus}$', fontsize=12)\n",
    "plt.title('Radius Valley for exoplanets from HoVan and stellar data from Gaia', fontsize=12)\n",
    "plt.xscale('log')\n",
    "plt.legend()\n",
    "plt.show()"
   ]
  },
  {
   "cell_type": "code",
   "execution_count": null,
   "id": "6d709eac",
   "metadata": {},
   "outputs": [],
   "source": [
    "SolarTemp = 5772\n",
    "Luminosity = GridData['Radius']**2*(GridData['Teff']/SolarTemp)**4\n",
    "LuminosityBASTA = StellarRadius**2*(Temperature/SolarTemp)**4"
   ]
  },
  {
   "cell_type": "code",
   "execution_count": null,
   "id": "e4e7579e",
   "metadata": {},
   "outputs": [],
   "source": [
    "Title = 'HR Diagram showing before and after BASTA'\n",
    "\n",
    "plt.figure()\n",
    "plt.plot(Temperature, LuminosityBASTA, '.', color=Colour, markersize=2, label='Gaia Data')\n",
    "plt.plot(GridData['Teff'], Luminosity, '.', color=Colour, markersize=2, label='BASTA (Gaia) Data')\n",
    "plt.gca().invert_xaxis()\n",
    "plt.xscale('log')\n",
    "plt.yscale('log')\n",
    "plt.xlabel('Temperature (K)', fontsize=12)\n",
    "plt.ylabel('Luminosity (L$_{\\odot}$)', fontsize=12)\n",
    "plt.title(Title, fontsize=15)\n",
    "plt.xlim(8000, 4000)\n",
    "plt.ylim(0.02, 20)\n",
    "plt.legend()\n",
    "plt.show()\n",
    "plt.savefig(f'{Directory}/Plots/Plots I\\'m definetly not using for my seminar/{Title} - 2')\n",
    "ν"
   ]
  },
  {
   "cell_type": "code",
   "execution_count": null,
   "id": "f7f31dab",
   "metadata": {},
   "outputs": [],
   "source": [
    "Offset = grid.Offset()\n",
    "print(max(Offset))\n",
    "\n",
    "Title = 'Parallax Offset (0, 15)'\n",
    "\n",
    "plt.figure()\n",
    "plt.plot(Offset, '.', markersize=2)\n",
    "plt.ylabel('Parallax Offset', fontsize=12)\n",
    "plt.title(Title, fontsize=15)\n",
    "plt.ylim(0, 15)\n",
    "plt.show()\n",
    "#plt.savefig(f'{Directory}/Plots/Plots I\\'m definetly not using for my seminar/{Title}')"
   ]
  },
  {
   "cell_type": "markdown",
   "id": "d6a8626e",
   "metadata": {},
   "source": [
    "You tatty git"
   ]
  }
 ],
 "metadata": {
  "kernelspec": {
   "display_name": "Python 3 (ipykernel)",
   "language": "python",
   "name": "python3"
  },
  "language_info": {
   "codemirror_mode": {
    "name": "ipython",
    "version": 3
   },
   "file_extension": ".py",
   "mimetype": "text/x-python",
   "name": "python",
   "nbconvert_exporter": "python",
   "pygments_lexer": "ipython3",
   "version": "3.8.13"
  }
 },
 "nbformat": 4,
 "nbformat_minor": 5
}
