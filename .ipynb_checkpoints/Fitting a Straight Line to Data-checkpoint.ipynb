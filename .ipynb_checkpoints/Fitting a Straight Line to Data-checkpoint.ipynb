{
 "cells": [
  {
   "cell_type": "markdown",
   "metadata": {},
   "source": [
    "# Bayesianness"
   ]
  },
  {
   "cell_type": "markdown",
   "metadata": {},
   "source": [
    "Importing the necessary modules"
   ]
  },
  {
   "cell_type": "code",
   "execution_count": 1,
   "metadata": {},
   "outputs": [],
   "source": [
    "import numpy as np\n",
    "import matplotlib.pyplot as plt\n",
    "from scipy.optimize import curve_fit"
   ]
  },
  {
   "cell_type": "markdown",
   "metadata": {},
   "source": [
    "Code used to fit a model to data I nicked from a previous bit of work I did."
   ]
  },
  {
   "cell_type": "code",
   "execution_count": 2,
   "metadata": {},
   "outputs": [],
   "source": [
    "def Fitting(x, m, c):\n",
    "    return m*x + c\n",
    "\n",
    "def Models(X, Y):\n",
    "    Parameters, Covarience = curve_fit(Fitting, X, Y)\n",
    "    XModel = np.linspace(min(X), max(X), 100)\n",
    "    YModel = Fitting(XModel, *Parameters)\n",
    "    return XModel, YModel, Parameters, Covarience"
   ]
  },
  {
   "cell_type": "markdown",
   "metadata": {},
   "source": [
    "Creating a random set of numbers normally distributed and inputting it into y. A model is then created for this set of data."
   ]
  },
  {
   "cell_type": "code",
   "execution_count": 3,
   "metadata": {},
   "outputs": [],
   "source": [
    "x = np.random.randn(20)\n",
    "m, c = 2, 3\n",
    "noise = np.random.randn(20)\n",
    "y = m*x + c + noise"
   ]
  },
  {
   "cell_type": "code",
   "execution_count": 4,
   "metadata": {},
   "outputs": [],
   "source": [
    "X, Y, Params, Cov = Models(x, y)\n",
    "perr = np.sqrt(np.diag(Cov))"
   ]
  },
  {
   "cell_type": "code",
   "execution_count": 5,
   "metadata": {},
   "outputs": [
    {
     "name": "stdout",
     "output_type": "stream",
     "text": [
      "m = 2.089, σ(m) = 0.276, %σ(m) = 13.2%\n",
      "c = 3.304, σ(c) = 0.204, %σ(c) = 6.168%\n",
      "Covarience = [[ 0.07604868 -0.00578471]\n",
      " [-0.00578471  0.04154306]]\n"
     ]
    }
   ],
   "source": [
    "print(f'm = {round(Params[0], 3)}, σ(m) = {round(perr[0], 3)}, %σ(m) = {round(perr[0]/Params[0]*100, 3)}%')\n",
    "print(f'c = {round(Params[1], 3)}, σ(c) = {round(perr[1], 3)}, %σ(c) = {round(perr[1]/Params[1]*100, 3)}%')\n",
    "print(f'Covarience = {Cov}')"
   ]
  },
  {
   "cell_type": "code",
   "execution_count": 6,
   "metadata": {},
   "outputs": [
    {
     "data": {
      "image/png": "[encoded data removed]",
      "text/plain": [
       "<Figure size 432x288 with 1 Axes>"
      ]
     },
     "metadata": {
      "needs_background": "light"
     },
     "output_type": "display_data"
    }
   ],
   "source": [
    "plt.figure()\n",
    "plt.plot(x, y, '.', label='Normally Distributed Data')\n",
    "plt.plot(X, Y, label='Model for Data')\n",
    "plt.title('Fitting a Straight Line to Data')\n",
    "plt.xlabel('x')\n",
    "plt.ylabel('y = f(x)')\n",
    "plt.legend()\n",
    "plt.show()"
   ]
  }
 ],
 "metadata": {
  "kernelspec": {
   "display_name": "Python 3",
   "language": "python",
   "name": "python3"
  },
  "language_info": {
   "codemirror_mode": {
    "name": "ipython",
    "version": 3
   },
   "file_extension": ".py",
   "mimetype": "text/x-python",
   "name": "python",
   "nbconvert_exporter": "python",
   "pygments_lexer": "ipython3",
   "version": "3.8.3"
  }
 },
 "nbformat": 4,
 "nbformat_minor": 4
}
