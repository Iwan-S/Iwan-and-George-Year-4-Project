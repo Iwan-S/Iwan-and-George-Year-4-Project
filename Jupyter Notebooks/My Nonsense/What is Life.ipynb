{
 "cells": [
  {
   "cell_type": "markdown",
   "id": "8be92263",
   "metadata": {},
   "source": [
    "# Gaussian Mixture Model"
   ]
  },
  {
   "cell_type": "code",
   "execution_count": 1,
   "id": "ad47a9a8",
   "metadata": {},
   "outputs": [],
   "source": [
    "import matplotlib.pyplot as plt\n",
    "import numpy as np"
   ]
  },
  {
   "cell_type": "code",
   "execution_count": 9,
   "id": "b1ff77eb",
   "metadata": {},
   "outputs": [],
   "source": [
    "def Rotator(x, y, Centre, θ):\n",
    "    π = np.pi\n",
    "    x1 = x-Centre[0]\n",
    "    y1 = y-Centre[1]\n",
    "    Length = np.sqrt((x1)**2 + (y1)**2)\n",
    "    α = []\n",
    "    \n",
    "    for a in range(len(Length)):\n",
    "        Angle = np.arcsin(y1[a]/Length[a])\n",
    "        if x1[a] > 0 and y1[a] > 0:\n",
    "            α.append(Angle)\n",
    "        elif x1[a] < 0 and y1[a] > 0:\n",
    "            α.append(π-Angle)\n",
    "        elif x1[a] < 0 and y1[a] < 0:\n",
    "            α.append(π+np.abs(Angle))\n",
    "        else:\n",
    "            α.append(2*π-np.abs(Angle))\n",
    "    \n",
    "    β = np.array(α)-θ\n",
    "    for b in range(len(β)):\n",
    "        if β[b] < 0:\n",
    "            β[b] += 2*π\n",
    "    \n",
    "    x2 = []\n",
    "    y2 = []\n",
    "    for c in range(len(Length)):\n",
    "        Sign = 1\n",
    "        if β[c] > π/2 and β[c] < 1.5*π:\n",
    "            Sign = -1\n",
    "        x2.append(Sign*Length[c]*np.abs(np.cos(β[c]))+2)\n",
    "        y2.append(Length[c]*np.sin(β[c])+2)\n",
    "    \n",
    "    return x2, y2"
   ]
  }
 ],
 "metadata": {
  "kernelspec": {
   "display_name": "Python 3 (ipykernel)",
   "language": "python",
   "name": "python3"
  },
  "language_info": {
   "codemirror_mode": {
    "name": "ipython",
    "version": 3
   },
   "file_extension": ".py",
   "mimetype": "text/x-python",
   "name": "python",
   "nbconvert_exporter": "python",
   "pygments_lexer": "ipython3",
   "version": "3.8.13"
  }
 },
 "nbformat": 4,
 "nbformat_minor": 5
}
