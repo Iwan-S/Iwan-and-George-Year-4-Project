{
 "cells": [
  {
   "cell_type": "markdown",
   "id": "cc60cc11",
   "metadata": {},
   "source": [
    "# Finding corrected parallax values\n",
    "****"
   ]
  },
  {
   "cell_type": "code",
   "execution_count": 1,
   "id": "e7614ce4",
   "metadata": {},
   "outputs": [],
   "source": [
    "import pandas as pd"
   ]
  },
  {
   "cell_type": "code",
   "execution_count": 6,
   "id": "2e94d82c",
   "metadata": {},
   "outputs": [],
   "source": [
    "def ScreamExtractor(File):\n",
    "    FILENAME = pd.read_csv(f'{File}', sep=' ')\n",
    "    return FILENAME"
   ]
  },
  {
   "cell_type": "code",
   "execution_count": 9,
   "id": "3723d6ee",
   "metadata": {},
   "outputs": [],
   "source": [
    "def Offset(Column='ZPCORR_PARALLAX_GAIA'):\n",
    "    Directory = 'C:/Users/georg/Documents/GitHub'\n",
    "    File = ScreamExtractor(f'{Directory}/get_gaia/results/sample.ascii')\n",
    "    \n",
    "    return File[Column]"
   ]
  }
 ],
 "metadata": {
  "kernelspec": {
   "display_name": "Python 3 (ipykernel)",
   "language": "python",
   "name": "python3"
  },
  "language_info": {
   "codemirror_mode": {
    "name": "ipython",
    "version": 3
   },
   "file_extension": ".py",
   "mimetype": "text/x-python",
   "name": "python",
   "nbconvert_exporter": "python",
   "pygments_lexer": "ipython3",
   "version": "3.8.13"
  }
 },
 "nbformat": 4,
 "nbformat_minor": 5
}
