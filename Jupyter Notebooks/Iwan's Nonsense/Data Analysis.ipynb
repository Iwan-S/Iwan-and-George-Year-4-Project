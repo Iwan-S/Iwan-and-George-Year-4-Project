{
 "cells": [
  {
   "cell_type": "code",
   "execution_count": 1,
   "id": "5d93292a",
   "metadata": {},
   "outputs": [],
   "source": [
    "import numpy as np\n",
    "import matplotlib.pyplot as plt\n",
    "import pandas as pd\n",
    "import seaborn as sns"
   ]
  },
  {
   "cell_type": "code",
   "execution_count": 2,
   "id": "8c6b49ee",
   "metadata": {},
   "outputs": [
    {
     "name": "stdout",
     "output_type": "stream",
     "text": [
      "[13, 38, 39, 43, 48, 55, 65, 66, 67, 73, 80, 81, 84, 88, 96, 104, 107, 136, 147, 171, 174, 175, 184, 185, 190, 200, 203, 204, 213, 215, 234, 239, 247, 255, 299, 301, 393]\n"
     ]
    }
   ],
   "source": [
    "Main_directory = 'C:/Users/Iwan/Documents/GitHub/Iwan-and-George-Year-4-Project/Exoplanets'\n",
    "ExopArch_directory = f'{Main_directory}/469 Exoplanets.csv'\n",
    "Gaia_directory = f'{Main_directory}/469 Gaia Results.csv'\n",
    "\n",
    "ExopArch_data = pd.read_csv(ExopArch_directory, comment='#')\n",
    "Gaia_data = pd.read_csv(Gaia_directory, comment='#')\n",
    "\n",
    "ExopArch_data['gaia_id'] = ExopArch_data['gaia_id'].str.replace('Gaia DR2', '')\n",
    "\n",
    "Gaia_ids = Gaia_data['source_id']\n",
    "Exo_ids = ExopArch_data['gaia_id']\n",
    "\n",
    "same_source_ids = []\n",
    "n = k = 0\n",
    "for Exo in Exo_ids:\n",
    "    k = 0\n",
    "    n += 1\n",
    "    for Gaia in Gaia_ids:\n",
    "        k += 1\n",
    "        if int(Gaia) == int(Exo):\n",
    "            same_source_ids.append([n, k])\n",
    "            \n",
    "same_source_ids = np.array(same_source_ids)\n",
    "\n",
    "def Cross_reference(index, GaiaToExo=True):\n",
    "    source_indices = []\n",
    "    GaiaToExo = int(GaiaToExo)\n",
    "    l = 0\n",
    "    for k in (same_source_ids[:,GaiaToExo]):\n",
    "        if index == k:\n",
    "            source_indices.append(same_source_ids[:,np.abs(GaiaToExo - 1)][l])\n",
    "        l += 1\n",
    "    return source_indices\n",
    "\n",
    "multi_planets = []\n",
    "for n in range(len(Gaia_ids)):\n",
    "    if len(Cross_reference(n)) > 1:\n",
    "        multi_planets.append(n)\n",
    "        \n",
    "print(multi_planets)"
   ]
  }
 ],
 "metadata": {
  "kernelspec": {
   "display_name": "Python 3 (ipykernel)",
   "language": "python",
   "name": "python3"
  },
  "language_info": {
   "codemirror_mode": {
    "name": "ipython",
    "version": 3
   },
   "file_extension": ".py",
   "mimetype": "text/x-python",
   "name": "python",
   "nbconvert_exporter": "python",
   "pygments_lexer": "ipython3",
   "version": "3.11.5"
  }
 },
 "nbformat": 4,
 "nbformat_minor": 5
}
